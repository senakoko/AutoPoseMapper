{
 "cells": [
  {
   "cell_type": "markdown",
   "id": "6f998f2a-2f94-40c0-b59c-dad4f0bfd120",
   "metadata": {},
   "source": [
    "# DEMO TO USE SLEAP HELPER FUNCTIONS"
   ]
  },
  {
   "cell_type": "markdown",
   "id": "de7cf9a2-3f78-4061-9c0c-7c03ec90962e",
   "metadata": {},
   "source": [
    "Follow the instructions here to use the SLEAP helper tools.   \n",
    "It assumes you already have used SLEAP to train a network."
   ]
  },
  {
   "cell_type": "code",
   "execution_count": null,
   "id": "cc7f0668-c93b-41fd-946a-ae393d10c6b2",
   "metadata": {},
   "outputs": [],
   "source": [
    "import sys\n",
    "\n",
    "### Provide the path to the code directory\n",
    "sys.path.append('/path_to_where_the_package_is_downloaded_to/AutoPoseMapper/')"
   ]
  },
  {
   "cell_type": "code",
   "execution_count": null,
   "id": "9683afb6-b6e1-4904-adb8-2a7e4e7c01e3",
   "metadata": {},
   "outputs": [],
   "source": [
    "import glob\n",
    "from autoposemapper.sleap_tools.sleap_tools import SleapHelper\n",
    "from autoposemapper.auxiliary_tools import utils"
   ]
  },
  {
   "cell_type": "code",
   "execution_count": null,
   "id": "c5dd2d03-efef-4983-9fab-066bb9efc375",
   "metadata": {},
   "outputs": [],
   "source": [
    "project_path = '/the_path_to_project_folder/'"
   ]
  },
  {
   "cell_type": "code",
   "execution_count": null,
   "id": "8c5a30df-1d8b-4d4f-9c39-b5e7b479908a",
   "metadata": {},
   "outputs": [],
   "source": [
    "sleap = SleapHelper(project_path)"
   ]
  },
  {
   "cell_type": "markdown",
   "id": "e25073c2-2edf-4f20-836a-a3737c561f4b",
   "metadata": {},
   "source": [
    "### Create a bash script to use SLEAP to track videos"
   ]
  },
  {
   "cell_type": "code",
   "execution_count": null,
   "id": "0c971b47-eede-4222-ba93-55f67a0ca30a",
   "metadata": {},
   "outputs": [],
   "source": [
    "sleap.track_videos_sleap(model_path='path_to_trained_network', video_type='.mp4')"
   ]
  },
  {
   "cell_type": "markdown",
   "id": "1e051b30-a519-4675-adb1-5466f36e7305",
   "metadata": {},
   "source": [
    "### Create a bash script to use SLEAP to clean tracked videos"
   ]
  },
  {
   "cell_type": "code",
   "execution_count": null,
   "id": "d167e4e3-cdff-4936-9a3e-c7c7aad8c5d4",
   "metadata": {},
   "outputs": [],
   "source": [
    "sleap.clean_tracked_files()"
   ]
  },
  {
   "cell_type": "markdown",
   "id": "c3adc1b6-f32e-4f2b-a588-454826dce24a",
   "metadata": {},
   "source": [
    "### Create a bash script to use SLEAP to make the h5 files from the cleaned sleap files"
   ]
  },
  {
   "cell_type": "code",
   "execution_count": null,
   "id": "e5c9ed3e-4a28-4d71-98d9-3e2c667e5609",
   "metadata": {},
   "outputs": [],
   "source": [
    "sleap.convert_sleap_2_h5()"
   ]
  },
  {
   "cell_type": "markdown",
   "id": "7d4440aa-1519-4215-bf71-026b86243822",
   "metadata": {},
   "source": [
    "### Convert SLEAP's h5 files to Pandas' table-style h5"
   ]
  },
  {
   "cell_type": "code",
   "execution_count": null,
   "id": "2e64fa50-e8e9-4b18-bd4f-179745cc83c4",
   "metadata": {},
   "outputs": [],
   "source": [
    "sleap.convert_sleap_h5_2_pandas_h5()"
   ]
  },
  {
   "cell_type": "markdown",
   "id": "96bc43ca-5565-4707-b716-c4b71f81bfcf",
   "metadata": {},
   "source": [
    "## Check the H5 files"
   ]
  },
  {
   "cell_type": "code",
   "execution_count": null,
   "id": "84ce01e2-3317-48af-b8b4-11cfd994e755",
   "metadata": {},
   "outputs": [],
   "source": [
    "file_path = '/Path_to_an_H5_File/Cohab1_pre_20211025_124326434_CNN.h5'"
   ]
  },
  {
   "cell_type": "code",
   "execution_count": null,
   "id": "763dedd8-9f6c-4f63-945d-8caea5fc995c",
   "metadata": {},
   "outputs": [],
   "source": [
    "h5 = utils.check_pandas_h5(file_path)\n",
    "h5"
   ]
  },
  {
   "cell_type": "code",
   "execution_count": null,
   "id": "bc0c31fe-f057-4f69-8c1a-6cc247463b97",
   "metadata": {},
   "outputs": [],
   "source": []
  }
 ],
 "metadata": {
  "kernelspec": {
   "display_name": "Python 3 (ipykernel)",
   "language": "python",
   "name": "python3"
  },
  "language_info": {
   "codemirror_mode": {
    "name": "ipython",
    "version": 3
   },
   "file_extension": ".py",
   "mimetype": "text/x-python",
   "name": "python",
   "nbconvert_exporter": "python",
   "pygments_lexer": "ipython3",
   "version": "3.8.13"
  }
 },
 "nbformat": 4,
 "nbformat_minor": 5
}
