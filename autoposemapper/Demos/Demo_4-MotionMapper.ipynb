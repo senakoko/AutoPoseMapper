{
 "cells": [
  {
   "cell_type": "markdown",
   "id": "528359b6-6a06-4361-aa1a-2092717ca7f6",
   "metadata": {},
   "source": [
    "# DEMO TO USE MotionMapper FUNCTIONS"
   ]
  },
  {
   "cell_type": "markdown",
   "id": "e0674fa5-f20e-4444-8dee-29d85d9302da",
   "metadata": {},
   "source": [
    "Follow the instructions here to use MotionMapper Functions"
   ]
  },
  {
   "cell_type": "code",
   "execution_count": null,
   "id": "8ab4b570-ec30-4713-9da1-77b3eba84f7b",
   "metadata": {},
   "outputs": [],
   "source": [
    "import sys\n",
    "\n",
    "sys.path.append('/path_to_where_the_package_is_downloaded_to/AutoPoseMapper/')"
   ]
  },
  {
   "cell_type": "code",
   "execution_count": null,
   "id": "9a055201-2db0-4948-8cb6-99f487aaec9a",
   "metadata": {},
   "outputs": [],
   "source": [
    "from autoposemapper.motion_mapper_tools.calculateBodyInfo import CalculateBodyInfo\n",
    "from autoposemapper.motion_mapper_tools.checkPCA import check_pca\n",
    "from autoposemapper.autoencoder.ae_dimensional_reduction import AutoTrainDimRed\n",
    "from autoposemapper.motion_mapper_tools.extractProjections import extract_projections, check_extracted_projections\n",
    "from autoposemapper.motion_mapper_tools.runMotionMapper import run_motion_mapper\n",
    "from autoposemapper.motion_mapper_tools.createBradyVideos import create_brady_videos, center_video\n",
    "from autoposemapper.autoencoder import utils as AE_utils"
   ]
  },
  {
   "cell_type": "code",
   "execution_count": null,
   "id": "ef7a4b70-787a-4c33-8efe-c487fb578ed0",
   "metadata": {},
   "outputs": [],
   "source": [
    "project_path = '/the_path_to_project_folder/'"
   ]
  },
  {
   "cell_type": "markdown",
   "id": "a4016c1e-1013-452e-87d0-5a478814f248",
   "metadata": {},
   "source": [
    "### Calculate Euclidean Distances between points"
   ]
  },
  {
   "cell_type": "code",
   "execution_count": null,
   "id": "afdc8d08-043f-4a9b-ac88-7a3cd0f26b78",
   "metadata": {},
   "outputs": [],
   "source": [
    "calbody = CalculateBodyInfo(project_path)"
   ]
  },
  {
   "cell_type": "code",
   "execution_count": null,
   "id": "eac89b3e-1087-4f55-9b16-23381af86ae3",
   "metadata": {},
   "outputs": [],
   "source": [
    "body_path = calbody.calculate_body_info(calculation_type='Euc_Dist', encoder_type='SAE')"
   ]
  },
  {
   "cell_type": "code",
   "execution_count": null,
   "id": "6f91838b-4ac0-4df4-9ff8-5eb48fa9ffc2",
   "metadata": {},
   "outputs": [],
   "source": [
    "check_pca(body_path)"
   ]
  },
  {
   "cell_type": "markdown",
   "id": "dcd3f65e-d374-409d-99ef-6bb66a4bf697",
   "metadata": {},
   "source": [
    "### Train Autoencoder Network"
   ]
  },
  {
   "cell_type": "code",
   "execution_count": null,
   "id": "1b546695-81fd-4a4c-a2d6-82af6ece869b",
   "metadata": {},
   "outputs": [],
   "source": [
    "autotrain = AutoTrainDimRed(project_path, body_path)"
   ]
  },
  {
   "cell_type": "code",
   "execution_count": null,
   "id": "2d2cd031-b688-4e5d-8b47-cd295d19c033",
   "metadata": {
    "scrolled": true,
    "tags": []
   },
   "outputs": [],
   "source": [
    "history, network = autotrain.auto_train_dimred(coding_size=8)"
   ]
  },
  {
   "cell_type": "markdown",
   "id": "b8398f9b-6ce9-4279-8a0b-27b4c9499328",
   "metadata": {},
   "source": [
    "##### Check the performance of the network"
   ]
  },
  {
   "cell_type": "code",
   "execution_count": null,
   "id": "44b6fa04-48f9-456d-bfbe-a7f9bd5f8090",
   "metadata": {},
   "outputs": [],
   "source": [
    "autoencoder.utils.model_loss_plots(history)"
   ]
  },
  {
   "cell_type": "markdown",
   "id": "45c12159-a9ef-4094-89ec-3e830b615529",
   "metadata": {},
   "source": [
    "### Reduce the Dimensions"
   ]
  },
  {
   "cell_type": "code",
   "execution_count": null,
   "id": "92fa99d9-290a-4340-b412-b7c1f88f3c8d",
   "metadata": {},
   "outputs": [],
   "source": [
    "encoded_path = autotrain.reduce_dimensions()\n",
    "encoded_path"
   ]
  },
  {
   "cell_type": "markdown",
   "id": "5ef934fc-b6f8-45ee-b0e5-2a0d20fde1db",
   "metadata": {},
   "source": [
    "### Extract Projections"
   ]
  },
  {
   "cell_type": "code",
   "execution_count": null,
   "id": "281d3b5a-3953-4e81-9daf-a4ebf66046c6",
   "metadata": {},
   "outputs": [],
   "source": [
    "extract_projections(encoded_path)"
   ]
  },
  {
   "cell_type": "code",
   "execution_count": null,
   "id": "55186007-57b8-472c-b1fc-58cc2901fb73",
   "metadata": {},
   "outputs": [],
   "source": [
    "check_extracted_projections(encoded_path)"
   ]
  },
  {
   "cell_type": "markdown",
   "id": "eef6308e-eb52-480e-a4ee-5e8045e4e883",
   "metadata": {},
   "source": [
    "## Run MotionMapper"
   ]
  },
  {
   "cell_type": "code",
   "execution_count": null,
   "id": "3ba5fcd0-0013-493a-ab59-48237e0a7475",
   "metadata": {
    "scrolled": true,
    "tags": []
   },
   "outputs": [],
   "source": [
    "run_motion_mapper(encoded_path,minF=0.5,maxF=15,perplexity=32,tSNE_method='barnes_hut',\n",
    "                  samplingFreq=30,numPeriods=50,numProcessors=4,useGPU=-1,\n",
    "                  training_numPoints=5000,trainingSetSize=50000,embedding_batchSize=30000\n",
    "                 )"
   ]
  },
  {
   "cell_type": "code",
   "execution_count": null,
   "id": "f8fb5b18-5f19-45ea-990b-ffbc84f0da52",
   "metadata": {},
   "outputs": [],
   "source": [
    "output_dir, groups, connections, new_h5s, vidnames = create_brady_videos(\n",
    "    project_path,\n",
    "    watershed_path=f'{project_path}/Encoded_SAE_Euc_Dist/TSNE/zVals_wShed_groups.mat',\n",
    "    autoencoder_data_path=f'{project_path}/autoencoder_data/',\n",
    "    video_path=f'{project_path}/videos/')"
   ]
  },
  {
   "cell_type": "code",
   "execution_count": null,
   "id": "23a1fb7a-0306-4fc0-9c15-517b383c5c6f",
   "metadata": {},
   "outputs": [],
   "source": [
    "vidnames"
   ]
  },
  {
   "cell_type": "code",
   "execution_count": null,
   "id": "7c3484d2-64ee-4907-9c28-11ad6b2a3132",
   "metadata": {},
   "outputs": [],
   "source": [
    "for region in range(10):\n",
    "    center_video(region, output_dir, groups, connections, h5s=new_h5s, vidnames=vidnames, animal_fps=25, subs=4, num_pad=250)\n",
    "    break"
   ]
  },
  {
   "cell_type": "code",
   "execution_count": null,
   "id": "f9760194-0fc5-44cd-83bb-c0db04f9a858",
   "metadata": {},
   "outputs": [],
   "source": []
  }
 ],
 "metadata": {
  "kernelspec": {
   "display_name": "Python 3 (ipykernel)",
   "language": "python",
   "name": "python3"
  },
  "language_info": {
   "codemirror_mode": {
    "name": "ipython",
    "version": 3
   },
   "file_extension": ".py",
   "mimetype": "text/x-python",
   "name": "python",
   "nbconvert_exporter": "python",
   "pygments_lexer": "ipython3",
   "version": "3.8.13"
  }
 },
 "nbformat": 4,
 "nbformat_minor": 5
}
