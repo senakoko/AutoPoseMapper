{
 "cells": [
  {
   "cell_type": "markdown",
   "id": "528359b6-6a06-4361-aa1a-2092717ca7f6",
   "metadata": {},
   "source": [
    "# DEMO TO USE MotionMapper FUNCTIONS"
   ]
  },
  {
   "cell_type": "code",
   "execution_count": 1,
   "id": "8ab4b570-ec30-4713-9da1-77b3eba84f7b",
   "metadata": {},
   "outputs": [],
   "source": [
    "import sys\n",
    "\n",
    "sys.path.append('/Users/senaagezo/PycharmProjects/AutoPoseMapper/')"
   ]
  },
  {
   "cell_type": "code",
   "execution_count": 2,
   "id": "9a055201-2db0-4948-8cb6-99f487aaec9a",
   "metadata": {},
   "outputs": [],
   "source": [
    "from autoposemapper.motion_mapper_tools.calculateBodyInfo import CalculateBodyInfo\n",
    "from autoposemapper.motion_mapper_tools.checkPCA import check_pca\n",
    "from autoposemapper.autoencoder.ae_dimensional_reduction import AutoTrainDimRed\n",
    "from autoposemapper.motion_mapper_tools.extractProjections import extract_projections, check_extracted_projections\n",
    "from autoposemapper.motion_mapper_tools.runMotionMapper import run_motion_mapper\n",
    "from autoposemapper.motion_mapper_tools.createBradyVideos import create_brady_videos, center_video\n",
    "from autoposemapper.autoencoder import utils as AE_utils"
   ]
  },
  {
   "cell_type": "code",
   "execution_count": 3,
   "id": "ef7a4b70-787a-4c33-8efe-c487fb578ed0",
   "metadata": {},
   "outputs": [],
   "source": [
    "project_path = '/Users/senaagezo/Downloads/AutoTest-Sena-2022-04-17/'"
   ]
  },
  {
   "cell_type": "markdown",
   "id": "a4016c1e-1013-452e-87d0-5a478814f248",
   "metadata": {},
   "source": [
    "### Calculate Euclidean Distances between points"
   ]
  },
  {
   "cell_type": "code",
   "execution_count": 4,
   "id": "afdc8d08-043f-4a9b-ac88-7a3cd0f26b78",
   "metadata": {},
   "outputs": [],
   "source": [
    "calbody = CalculateBodyInfo(project_path)"
   ]
  },
  {
   "cell_type": "code",
   "execution_count": 5,
   "id": "eac89b3e-1087-4f55-9b16-23381af86ae3",
   "metadata": {},
   "outputs": [],
   "source": [
    "body_path = calbody.calculate_body_info(calculation_type='Euc_Dist', encoder_type='SAE')"
   ]
  },
  {
   "cell_type": "code",
   "execution_count": 6,
   "id": "6f91838b-4ac0-4df4-9ff8-5eb48fa9ffc2",
   "metadata": {},
   "outputs": [
    {
     "name": "stderr",
     "output_type": "stream",
     "text": [
      "100%|█████████████████████████████████████████████████████████████████████████████████████████| 2/2 [00:02<00:00,  1.47s/it]"
     ]
    },
    {
     "name": "stdout",
     "output_type": "stream",
     "text": [
      "the maximum number of principal components in the data:  5\n",
      "the median number of principal components in the data:  4.5\n"
     ]
    },
    {
     "name": "stderr",
     "output_type": "stream",
     "text": [
      "\n"
     ]
    }
   ],
   "source": [
    "check_pca(body_path)"
   ]
  },
  {
   "cell_type": "markdown",
   "id": "dcd3f65e-d374-409d-99ef-6bb66a4bf697",
   "metadata": {},
   "source": [
    "### Train Autoencoder Network"
   ]
  },
  {
   "cell_type": "code",
   "execution_count": 7,
   "id": "1b546695-81fd-4a4c-a2d6-82af6ece869b",
   "metadata": {},
   "outputs": [],
   "source": [
    "autotrain = AutoTrainDimRed(project_path, body_path)"
   ]
  },
  {
   "cell_type": "code",
   "execution_count": null,
   "id": "2d2cd031-b688-4e5d-8b47-cd295d19c033",
   "metadata": {
    "scrolled": true,
    "tags": []
   },
   "outputs": [],
   "source": [
    "history, network = autotrain.auto_train_dimred(coding_size=8)"
   ]
  },
  {
   "cell_type": "markdown",
   "id": "b8398f9b-6ce9-4279-8a0b-27b4c9499328",
   "metadata": {},
   "source": [
    "##### Check the performance of the network"
   ]
  },
  {
   "cell_type": "code",
   "execution_count": null,
   "id": "44b6fa04-48f9-456d-bfbe-a7f9bd5f8090",
   "metadata": {},
   "outputs": [],
   "source": [
    "autoencoder.utils.model_loss_plots(history)"
   ]
  },
  {
   "cell_type": "markdown",
   "id": "45c12159-a9ef-4094-89ec-3e830b615529",
   "metadata": {},
   "source": [
    "### Reduce the Dimensions"
   ]
  },
  {
   "cell_type": "code",
   "execution_count": 8,
   "id": "92fa99d9-290a-4340-b412-b7c1f88f3c8d",
   "metadata": {},
   "outputs": [
    {
     "name": "stderr",
     "output_type": "stream",
     "text": [
      "2022-04-17 14:57:47.090841: I tensorflow/core/platform/cpu_feature_guard.cc:151] This TensorFlow binary is optimized with oneAPI Deep Neural Network Library (oneDNN) to use the following CPU instructions in performance-critical operations:  AVX2 FMA\n",
      "To enable them in other operations, rebuild TensorFlow with the appropriate compiler flags.\n"
     ]
    },
    {
     "name": "stdout",
     "output_type": "stream",
     "text": [
      "WARNING:tensorflow:Detecting that an object or model or tf.train.Checkpoint is being deleted with unrestored values. See the following logs for the specific values in question. To silence these warnings, use `status.expect_partial()`. See https://www.tensorflow.org/api_docs/python/tf/train/Checkpoint#restorefor details about the status object returned by the restore function.\n",
      "WARNING:tensorflow:Value in checkpoint could not be found in the restored object: (root).optimizer.iter\n",
      "WARNING:tensorflow:Value in checkpoint could not be found in the restored object: (root).optimizer.beta_1\n",
      "WARNING:tensorflow:Value in checkpoint could not be found in the restored object: (root).optimizer.beta_2\n",
      "WARNING:tensorflow:Value in checkpoint could not be found in the restored object: (root).optimizer.decay\n",
      "WARNING:tensorflow:Value in checkpoint could not be found in the restored object: (root).optimizer.learning_rate\n"
     ]
    },
    {
     "data": {
      "text/plain": [
       "PosixPath('/Users/senaagezo/Downloads/AutoTest-Sena-2022-04-17/Encoded_SAE_Euc_Dist/Encoded')"
      ]
     },
     "execution_count": 8,
     "metadata": {},
     "output_type": "execute_result"
    }
   ],
   "source": [
    "encoded_path = autotrain.reduce_dimensions()\n",
    "encoded_path"
   ]
  },
  {
   "cell_type": "markdown",
   "id": "5ef934fc-b6f8-45ee-b0e5-2a0d20fde1db",
   "metadata": {},
   "source": [
    "### Extract Projections"
   ]
  },
  {
   "cell_type": "code",
   "execution_count": null,
   "id": "281d3b5a-3953-4e81-9daf-a4ebf66046c6",
   "metadata": {},
   "outputs": [],
   "source": [
    "extract_projections(encoded_path)"
   ]
  },
  {
   "cell_type": "code",
   "execution_count": null,
   "id": "55186007-57b8-472c-b1fc-58cc2901fb73",
   "metadata": {},
   "outputs": [],
   "source": [
    "check_extracted_projections(encoded_path)"
   ]
  },
  {
   "cell_type": "markdown",
   "id": "eef6308e-eb52-480e-a4ee-5e8045e4e883",
   "metadata": {},
   "source": [
    "## Run MotionMapper"
   ]
  },
  {
   "cell_type": "code",
   "execution_count": 9,
   "id": "3ba5fcd0-0013-493a-ab59-48237e0a7475",
   "metadata": {
    "scrolled": true,
    "tags": []
   },
   "outputs": [
    {
     "name": "stdout",
     "output_type": "stream",
     "text": [
      "8\n",
      "04-17-2022_14-57\n",
      "tsneStarted\n",
      "Running minitSNE\n",
      "Finding Training Set\n",
      "Finding training set contributions from data set 1/2 : \n",
      "/Users/senaagezo/Downloads/AutoTest-Sena-2022-04-17/Encoded_SAE_Euc_Dist/Projections/Cohab1_pre_20211025_124326434_animal_2_euc_pcaModes.mat\n",
      "\t Loading Projections\n",
      "\t Calculating Wavelets\n",
      "\t Calculating wavelets, clock starting.\n",
      "\t Using #4 CPUs.\n",
      "\t Done at 7.00 seconds.\n",
      "\t Calculating Distances\n",
      "\t Running t-SNE\n",
      "[t-SNE] Computing 61 nearest neighbors...\n",
      "[t-SNE] Indexed 5000 samples in 0.038s...\n",
      "[t-SNE] Computed neighbors for 5000 samples in 0.373s...\n",
      "[t-SNE] Computed conditional probabilities for sample 1000 / 5000\n",
      "[t-SNE] Computed conditional probabilities for sample 2000 / 5000\n",
      "[t-SNE] Computed conditional probabilities for sample 3000 / 5000\n",
      "[t-SNE] Computed conditional probabilities for sample 4000 / 5000\n",
      "[t-SNE] Computed conditional probabilities for sample 5000 / 5000\n",
      "[t-SNE] Mean sigma: 0.150612\n",
      "[t-SNE] KL divergence after 250 iterations with early exaggeration: 90.135902\n",
      "[t-SNE] KL divergence after 1000 iterations: 2.129786\n",
      "Finding Templates.\n",
      "Finding training set contributions from data set 2/2 : \n",
      "/Users/senaagezo/Downloads/AutoTest-Sena-2022-04-17/Encoded_SAE_Euc_Dist/Projections/Cohab1_pre_20211025_124326434_animal_1_euc_pcaModes.mat\n",
      "\t Loading Projections\n",
      "\t Calculating Wavelets\n",
      "\t Calculating wavelets, clock starting.\n",
      "\t Using #4 CPUs.\n",
      "\t Done at 7.10 seconds.\n",
      "\t Calculating Distances\n",
      "\t Running t-SNE\n",
      "[t-SNE] Computing 61 nearest neighbors...\n",
      "[t-SNE] Indexed 5000 samples in 0.039s...\n",
      "[t-SNE] Computed neighbors for 5000 samples in 0.372s...\n",
      "[t-SNE] Computed conditional probabilities for sample 1000 / 5000\n",
      "[t-SNE] Computed conditional probabilities for sample 2000 / 5000\n",
      "[t-SNE] Computed conditional probabilities for sample 3000 / 5000\n",
      "[t-SNE] Computed conditional probabilities for sample 4000 / 5000\n",
      "[t-SNE] Computed conditional probabilities for sample 5000 / 5000\n",
      "[t-SNE] Mean sigma: 0.154194\n",
      "[t-SNE] KL divergence after 250 iterations with early exaggeration: 89.624268\n",
      "[t-SNE] KL divergence after 1000 iterations: 2.056789\n",
      "Finding Templates.\n",
      "Finding t-SNE Embedding for Training Set\n",
      "Finding Distances\n",
      "Computing t-SNE\n",
      "[t-SNE] Computing 97 nearest neighbors...\n",
      "[t-SNE] Indexed 10000 samples in 0.183s...\n",
      "[t-SNE] Computed neighbors for 10000 samples in 1.610s...\n",
      "[t-SNE] Computed conditional probabilities for sample 1000 / 10000\n",
      "[t-SNE] Computed conditional probabilities for sample 2000 / 10000\n",
      "[t-SNE] Computed conditional probabilities for sample 3000 / 10000\n",
      "[t-SNE] Computed conditional probabilities for sample 4000 / 10000\n",
      "[t-SNE] Computed conditional probabilities for sample 5000 / 10000\n",
      "[t-SNE] Computed conditional probabilities for sample 6000 / 10000\n",
      "[t-SNE] Computed conditional probabilities for sample 7000 / 10000\n",
      "[t-SNE] Computed conditional probabilities for sample 8000 / 10000\n",
      "[t-SNE] Computed conditional probabilities for sample 9000 / 10000\n",
      "[t-SNE] Computed conditional probabilities for sample 10000 / 10000\n",
      "[t-SNE] Mean sigma: 0.146274\n",
      "[t-SNE] KL divergence after 250 iterations with early exaggeration: 92.738121\n",
      "[t-SNE] KL divergence after 1000 iterations: 2.570581\n",
      "minitSNE done, finding embeddings now.\n",
      "04-17-2022_14-59\n",
      "Finding Embeddings\n",
      "1/2 : /Users/senaagezo/Downloads/AutoTest-Sena-2022-04-17/Encoded_SAE_Euc_Dist/Projections/Cohab1_pre_20211025_124326434_animal_2_euc_pcaModes.mat\n",
      "Finding Wavelets\n",
      "\t Calculating wavelets, clock starting.\n",
      "\t Using #4 CPUs.\n",
      "\t Done at 8.01 seconds.\n",
      "Finding Embeddings\n",
      "\t Processing batch #   1 out of    2\n",
      "\t Calculating distances for batch    1\n",
      "\t Calculated distances for batch    1 10.83seconds.\n",
      "\t Calculating fminProjections for batch    1\n",
      "\t\t Calculating Sigma Image #20000\n",
      "\t\t Calculated Sigma Image #20000\n",
      "\t\t FminSearch Image #20000\n",
      "\t\t FminSearch Done Image #20000 0.04seconds\n",
      "\t\t Simplex search done Image #20000 0.05seconds\n",
      "\t Processed batch #   1 out of    2 in 219.08seconds.\n",
      "\n",
      "\t Processing batch #   2 out of    2\n",
      "\t Calculating distances for batch    2\n",
      "\t Calculated distances for batch    2 8.69seconds.\n",
      "\t Calculating fminProjections for batch    2\n",
      "\t\t Calculating Sigma Image #20000\n",
      "\t\t Calculated Sigma Image #20000\n",
      "\t\t FminSearch Image #20000\n",
      "\t\t FminSearch Done Image #20000 0.04seconds\n",
      "\t\t Simplex search done Image #20000 0.05seconds\n",
      "\t Processed batch #   2 out of    2 in 185.38seconds.\n",
      "\n",
      "Embeddings found in 424.59 seconds.\n",
      "Embeddings saved.\n",
      "\n",
      "Finding Embeddings\n",
      "2/2 : /Users/senaagezo/Downloads/AutoTest-Sena-2022-04-17/Encoded_SAE_Euc_Dist/Projections/Cohab1_pre_20211025_124326434_animal_1_euc_pcaModes.mat\n",
      "Finding Wavelets\n",
      "\t Calculating wavelets, clock starting.\n",
      "\t Using #4 CPUs.\n",
      "\t Done at 6.86 seconds.\n",
      "Finding Embeddings\n",
      "\t Processing batch #   1 out of    2\n",
      "\t Calculating distances for batch    1\n",
      "\t Calculated distances for batch    1 7.79seconds.\n",
      "\t Calculating fminProjections for batch    1\n",
      "\t\t Calculating Sigma Image #20000\n",
      "\t\t Calculated Sigma Image #20000\n",
      "\t\t FminSearch Image #20000\n",
      "\t\t FminSearch Done Image #20000 0.04seconds\n",
      "\t\t Simplex search done Image #20000 0.05seconds\n",
      "\t Processed batch #   1 out of    2 in 233.99seconds.\n",
      "\n",
      "\t Processing batch #   2 out of    2\n",
      "\t Calculating distances for batch    2\n",
      "\t Calculated distances for batch    2 13.23seconds.\n",
      "\t Calculating fminProjections for batch    2\n",
      "\t\t Calculating Sigma Image #20000\n",
      "\t\t Calculated Sigma Image #20000\n",
      "\t\t FminSearch Image #20000\n",
      "\t\t FminSearch Done Image #20000 0.05seconds\n",
      "\t\t Simplex search done Image #20000 0.06seconds\n",
      "\t Processed batch #   2 out of    2 in 202.36seconds.\n",
      "\n",
      "Embeddings found in 457.90 seconds.\n",
      "Embeddings saved.\n",
      "\n",
      "All Embeddings Saved!\n",
      "1/2 Loading embedding for Cohab1_pre_20211025_124326434_animal_2_euc_pcaModes 0.00 seconds.\n",
      "2/2 Loading embedding for Cohab1_pre_20211025_124326434_animal_1_euc_pcaModes 0.02 seconds.\n",
      "Starting watershed transform...\n",
      "\t Sigma 0.35, Regions 4477\n",
      "\t Sigma 0.40, Regions 3899\n",
      "\t Sigma 0.45, Regions 3462\n",
      "\t Sigma 0.50, Regions 3047\n",
      "\t Sigma 0.55, Regions 2677\n",
      "\t Sigma 0.60, Regions 2373\n",
      "\t Sigma 0.65, Regions 2086\n",
      "\t Sigma 0.70, Regions 1830\n",
      "\t Sigma 0.75, Regions 1598\n",
      "\t Sigma 0.80, Regions 1398\n",
      "\t Sigma 0.85, Regions 1241\n",
      "\t Sigma 0.90, Regions 1101\n",
      "\t Sigma 0.95, Regions 960\n",
      "\t Sigma 1.00, Regions 838\n",
      "\t Sigma 1.05, Regions 745\n",
      "\t Sigma 1.10, Regions 687\n",
      "\t Sigma 1.15, Regions 614\n",
      "\t Sigma 1.20, Regions 563\n",
      "\t Sigma 1.25, Regions 503\n",
      "\t Sigma 1.30, Regions 458\n",
      "\t Sigma 1.35, Regions 419\n",
      "\t Sigma 1.40, Regions 382\n",
      "\t Sigma 1.45, Regions 340\n",
      "\t Sigma 1.50, Regions 315\n",
      "\t Sigma 1.55, Regions 290\n",
      "\t Sigma 1.60, Regions 275\n",
      "\t Sigma 1.65, Regions 246\n",
      "\t Sigma 1.70, Regions 234\n",
      "\t Sigma 1.75, Regions 218\n",
      "\t Sigma 1.80, Regions 205\n",
      "\t Sigma 1.85, Regions 192\n",
      "\t Sigma 1.90, Regions 182\n",
      "\t Sigma 1.95, Regions 168\n",
      "\t Sigma 2.00, Regions 158\n",
      "\t Sigma 2.05, Regions 151\n",
      "\t Sigma 2.10, Regions 145\n",
      "\t Sigma 2.15, Regions 134\n",
      "\t Sigma 2.20, Regions 126\n",
      "\t Sigma 2.25, Regions 120\n",
      "\t Sigma 2.30, Regions 106\n",
      "\t Sigma 2.35, Regions 102\n",
      "\t Sigma 2.40, Regions 97\n",
      "Assigning watershed regions...\n",
      "Calculating velocity distributions...\n",
      "Initialization 0\n",
      "  Iteration 10\n",
      "  Iteration 20\n",
      "  Iteration 30\n",
      "Initialization converged: True\n",
      "\t tempsave done.\n",
      "Adjusting non-stereotypic regions to 0...\n",
      "\t Done. 0.00 seconds\n",
      "\t tempsave done.\n",
      "All data saved in TSNE/zVals_wShed_groups.mat.\n"
     ]
    }
   ],
   "source": [
    "run_motion_mapper(encoded_path,minF=0.5,maxF=15,perplexity=32,tSNE_method='barnes_hut',\n",
    "                  samplingFreq=30,numPeriods=50,numProcessors=4,useGPU=-1,\n",
    "                  training_numPoints=5000,trainingSetSize=50000,embedding_batchSize=30000\n",
    "                 )"
   ]
  },
  {
   "cell_type": "code",
   "execution_count": 10,
   "id": "f8fb5b18-5f19-45ea-990b-ffbc84f0da52",
   "metadata": {},
   "outputs": [],
   "source": [
    "output_dir, groups, connections, new_h5s, vidnames = create_brady_videos(\n",
    "    project_path,\n",
    "    watershed_path=f'{project_path}/Encoded_SAE_Euc_Dist/TSNE/zVals_wShed_groups.mat',\n",
    "    autoencoder_data_path=f'{project_path}/autoencoder_data/',\n",
    "    video_path=f'{project_path}/videos/')"
   ]
  },
  {
   "cell_type": "code",
   "execution_count": 11,
   "id": "23a1fb7a-0306-4fc0-9c15-517b383c5c6f",
   "metadata": {},
   "outputs": [
    {
     "data": {
      "text/plain": [
       "['/Users/senaagezo/Downloads/AutoTest-Sena-2022-04-17//videos/Cohab1_pre_20211025_124326434/Cohab1_pre_20211025_124326434.mp4',\n",
       " '/Users/senaagezo/Downloads/AutoTest-Sena-2022-04-17//videos/Cohab1_pre_20211025_124326434/Cohab1_pre_20211025_124326434.mp4']"
      ]
     },
     "execution_count": 11,
     "metadata": {},
     "output_type": "execute_result"
    }
   ],
   "source": [
    "vidnames"
   ]
  },
  {
   "cell_type": "code",
   "execution_count": 13,
   "id": "7c3484d2-64ee-4907-9c28-11ad6b2a3132",
   "metadata": {},
   "outputs": [
    {
     "name": "stdout",
     "output_type": "stream",
     "text": [
      "[1 1 1 1 1]\n",
      "1  done\n"
     ]
    }
   ],
   "source": [
    "for region in range(10):\n",
    "    center_video(region, output_dir, groups, connections, h5s=new_h5s, vidnames=vidnames, animal_fps=25, subs=4, num_pad=250)\n",
    "    break"
   ]
  },
  {
   "cell_type": "code",
   "execution_count": null,
   "id": "f9760194-0fc5-44cd-83bb-c0db04f9a858",
   "metadata": {},
   "outputs": [],
   "source": []
  }
 ],
 "metadata": {
  "kernelspec": {
   "display_name": "Python 3 (ipykernel)",
   "language": "python",
   "name": "python3"
  },
  "language_info": {
   "codemirror_mode": {
    "name": "ipython",
    "version": 3
   },
   "file_extension": ".py",
   "mimetype": "text/x-python",
   "name": "python",
   "nbconvert_exporter": "python",
   "pygments_lexer": "ipython3",
   "version": "3.7.13"
  }
 },
 "nbformat": 4,
 "nbformat_minor": 5
}
