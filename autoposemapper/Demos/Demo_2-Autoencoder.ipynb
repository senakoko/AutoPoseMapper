{
 "cells": [
  {
   "cell_type": "markdown",
   "id": "bizarre-cycle",
   "metadata": {},
   "source": [
    "# DEMO TO USE AUTOENCODER FUNCTIONS"
   ]
  },
  {
   "cell_type": "markdown",
   "id": "extensive-hindu",
   "metadata": {},
   "source": [
    "Follow the instructions here to use the autoencoder functions to correct tracking errors."
   ]
  },
  {
   "cell_type": "code",
   "execution_count": null,
   "id": "continent-display",
   "metadata": {},
   "outputs": [],
   "source": [
    "import sys\n",
    "\n",
    "### Provide the path to the code directory\n",
    "sys.path.append('/path_to_where_the_package_is_downloaded_to/AutoPoseMapper/')"
   ]
  },
  {
   "cell_type": "code",
   "execution_count": null,
   "id": "banned-pendant",
   "metadata": {},
   "outputs": [],
   "source": [
    "from autoposemapper.autoencoder.autoencoder_tools import AutoEncoderHelper\n",
    "from autoposemapper.autoencoder.autoencoder_train import AutoTrain\n",
    "from autoposemapper.autoencoder import utils as AE_utils\n",
    "from autoposemapper.auxiliary_tools import utils as AX_utils"
   ]
  },
  {
   "cell_type": "code",
   "execution_count": null,
   "id": "moderate-sarah",
   "metadata": {},
   "outputs": [],
   "source": [
    "project_path = '/the_path_to_project_folder/'"
   ]
  },
  {
   "cell_type": "code",
   "execution_count": null,
   "id": "likely-relationship",
   "metadata": {},
   "outputs": [],
   "source": [
    "autoenc = AutoEncoderHelper(project_path)"
   ]
  },
  {
   "cell_type": "markdown",
   "id": "gorgeous-feeding",
   "metadata": {},
   "source": [
    "### Egocenter the files "
   ]
  },
  {
   "cell_type": "code",
   "execution_count": null,
   "id": "threaded-porcelain",
   "metadata": {},
   "outputs": [],
   "source": [
    "autoenc.egocenter_files(bind_center='midBody', b1='Nose', b2='tailStart', \n",
    "                            drop_point=True, which_points=['tailEnd'])"
   ]
  },
  {
   "cell_type": "markdown",
   "id": "thorough-arkansas",
   "metadata": {},
   "source": [
    "### Train Autoencoder Network"
   ]
  },
  {
   "cell_type": "code",
   "execution_count": null,
   "id": "parliamentary-medium",
   "metadata": {},
   "outputs": [],
   "source": [
    "autotrain = AutoTrain(project_path)"
   ]
  },
  {
   "cell_type": "markdown",
   "id": "developed-cylinder",
   "metadata": {},
   "source": [
    "The coding size and the number of determines the performance of the network.   \n",
    "Tested with my data the following works well.  \n",
    "For Stacked Autoencoder Network:\n",
    "- coding_size = 16\n",
    "- epochs = 100"
   ]
  },
  {
   "cell_type": "code",
   "execution_count": null,
   "id": "assisted-gospel",
   "metadata": {
    "scrolled": true,
    "tags": []
   },
   "outputs": [],
   "source": [
    "history, network = autotrain.auto_train_initial(scorer_type='CNN', encoder_type='SAE', \n",
    "                                                coding_size=16, epochs=10)"
   ]
  },
  {
   "cell_type": "markdown",
   "id": "smooth-collection",
   "metadata": {},
   "source": [
    "Check the performance of the network"
   ]
  },
  {
   "cell_type": "code",
   "execution_count": null,
   "id": "useful-slave",
   "metadata": {},
   "outputs": [],
   "source": [
    "AE_utils.model_loss_plots(history)"
   ]
  },
  {
   "cell_type": "code",
   "execution_count": null,
   "id": "elect-lebanon",
   "metadata": {},
   "outputs": [],
   "source": [
    "AE_utils.model_accuracy_plots(history)"
   ]
  },
  {
   "cell_type": "markdown",
   "id": "private-combine",
   "metadata": {},
   "source": [
    "##### Create Skeleton of egocenter before running this code below"
   ]
  },
  {
   "cell_type": "code",
   "execution_count": null,
   "id": "dominican-charleston",
   "metadata": {},
   "outputs": [],
   "source": [
    "AE_utils.plot_trained_points(network, project_path, frame_number=1500)"
   ]
  },
  {
   "cell_type": "markdown",
   "id": "european-imagination",
   "metadata": {},
   "source": [
    "##### If you trained a Variational Autoencoder Network, VAE, you can use the code below"
   ]
  },
  {
   "cell_type": "code",
   "execution_count": null,
   "id": "younger-rochester",
   "metadata": {},
   "outputs": [],
   "source": [
    "AE_utils.generate_random_animal_w_vae(auto, project_path)"
   ]
  },
  {
   "cell_type": "markdown",
   "id": "growing-limitation",
   "metadata": {},
   "source": [
    "##### Re-train the network if needed"
   ]
  },
  {
   "cell_type": "code",
   "execution_count": null,
   "id": "dimensional-gilbert",
   "metadata": {},
   "outputs": [],
   "source": [
    "history, network = autotrain.auto_retrain(scorer_type='CNN', encoder_type='SAE', \n",
    "                                          coding_size=16, epochs=10)"
   ]
  },
  {
   "cell_type": "markdown",
   "id": "chubby-ecology",
   "metadata": {},
   "source": [
    "### Predict with the Trained Network"
   ]
  },
  {
   "cell_type": "code",
   "execution_count": null,
   "id": "likely-prince",
   "metadata": {},
   "outputs": [],
   "source": [
    "autotrain.predict_w_trained_network(scorer_type='CNN', encoder_type='SAE')"
   ]
  },
  {
   "cell_type": "markdown",
   "id": "official-pillow",
   "metadata": {},
   "source": [
    "### Re-orient the egocentered Autoencoder files to original locations"
   ]
  },
  {
   "cell_type": "code",
   "execution_count": null,
   "id": "particular-contents",
   "metadata": {},
   "outputs": [],
   "source": [
    "autoenc.reorient_files(encoder_type='SAE')"
   ]
  },
  {
   "cell_type": "markdown",
   "id": "governmental-outreach",
   "metadata": {},
   "source": [
    "### Create Pandas' table-style h5 files"
   ]
  },
  {
   "cell_type": "code",
   "execution_count": null,
   "id": "dedicated-negotiation",
   "metadata": {},
   "outputs": [],
   "source": [
    "autoenc.save_mat_to_h5(encoder_type='SAE')"
   ]
  },
  {
   "cell_type": "markdown",
   "id": "quality-burns",
   "metadata": {},
   "source": [
    "### Check the h5 files"
   ]
  },
  {
   "cell_type": "code",
   "execution_count": null,
   "id": "horizontal-header",
   "metadata": {},
   "outputs": [],
   "source": [
    "file_path = '/Users/senaagezo/Downloads/AutoTest-Sena-2022-04-17/autoencoder_data/Cohab1_pre_20211025_124326434/Cohab1_pre_20211025_124326434_SAE_animal_1_data.h5'"
   ]
  },
  {
   "cell_type": "code",
   "execution_count": null,
   "id": "likely-madrid",
   "metadata": {},
   "outputs": [],
   "source": [
    "AX_utils.check_pandas_h5(file_path)"
   ]
  },
  {
   "cell_type": "markdown",
   "id": "successful-black",
   "metadata": {},
   "source": [
    "### Combine H5 files"
   ]
  },
  {
   "cell_type": "code",
   "execution_count": null,
   "id": "unsigned-afghanistan",
   "metadata": {},
   "outputs": [],
   "source": [
    "autoenc.combine_animal_h5_files(encoder_type='SAE')"
   ]
  },
  {
   "cell_type": "code",
   "execution_count": null,
   "id": "marked-hungarian",
   "metadata": {},
   "outputs": [],
   "source": []
  }
 ],
 "metadata": {
  "kernelspec": {
   "display_name": "Python 3",
   "language": "python",
   "name": "python3"
  },
  "language_info": {
   "codemirror_mode": {
    "name": "ipython",
    "version": 3
   },
   "file_extension": ".py",
   "mimetype": "text/x-python",
   "name": "python",
   "nbconvert_exporter": "python",
   "pygments_lexer": "ipython3",
   "version": "3.7.9"
  }
 },
 "nbformat": 4,
 "nbformat_minor": 5
}
