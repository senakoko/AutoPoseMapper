{
 "cells": [
  {
   "cell_type": "markdown",
   "id": "2dcf0354-5504-408c-a8bb-d81da78ad4b6",
   "metadata": {},
   "source": [
    "# DEMO TO USE AUTOENCODER FUNCTIONS"
   ]
  },
  {
   "cell_type": "markdown",
   "id": "6e5b29af-b840-4421-92e3-a1049a2e1272",
   "metadata": {},
   "source": [
    "Follow the instructions here to use the autoencoder functions to correct tracking errors."
   ]
  },
  {
   "cell_type": "code",
   "execution_count": null,
   "id": "77f169e6-b670-4618-a8b6-e4c3fc92a77a",
   "metadata": {},
   "outputs": [],
   "source": [
    "import sys\n",
    "\n",
    "### Provide the path to the code directory\n",
    "sys.path.append('/path_to_where_the_package_is_downloaded_to/AutoPoseMapper/')"
   ]
  },
  {
   "cell_type": "code",
   "execution_count": null,
   "id": "8a57232e-34ab-453f-828a-1b8d8a4c1c7f",
   "metadata": {},
   "outputs": [],
   "source": [
    "from autoposemapper.autoencoder.autoencoder_tools import AutoEncoderHelper\n",
    "from autoposemapper.autoencoder.autoencoder_train import AutoTrain\n",
    "from autoposemapper.autoencoder import utils as AE_utils\n",
    "from autoposemapper.auxiliary_tools import utils as AX_utils"
   ]
  },
  {
   "cell_type": "code",
   "execution_count": null,
   "id": "afcfcc46-fd1d-48d1-ad90-3f04171af712",
   "metadata": {},
   "outputs": [],
   "source": [
    "project_path = '/Users/senaagezo/Downloads/AutoTest-Sena-2022-04-22/'"
   ]
  },
  {
   "cell_type": "code",
   "execution_count": null,
   "id": "23da4220-e764-4bd6-869c-0c579237c565",
   "metadata": {},
   "outputs": [],
   "source": [
    "autoenc = AutoEncoderHelper(project_path)"
   ]
  },
  {
   "cell_type": "markdown",
   "id": "52bf9997-f530-4a0a-bf58-dcd6dab1ee00",
   "metadata": {},
   "source": [
    "### Egocenter the files "
   ]
  },
  {
   "cell_type": "code",
   "execution_count": null,
   "id": "7454f469-cf20-4570-a98b-9269af7cd847",
   "metadata": {},
   "outputs": [],
   "source": [
    "autoenc.egocenter_files(bind_center='midBody', b1='Nose', b2='tailStart', \n",
    "                            drop_point=True, which_points=['tailEnd'])"
   ]
  },
  {
   "cell_type": "markdown",
   "id": "04ca4a64-4cca-434c-b399-033b7bb33aa0",
   "metadata": {},
   "source": [
    "### Train Autoencoder Network"
   ]
  },
  {
   "cell_type": "code",
   "execution_count": null,
   "id": "893177a5-90e0-43f7-acbc-5328820c65fb",
   "metadata": {},
   "outputs": [],
   "source": [
    "autotrain = AutoTrain(project_path)"
   ]
  },
  {
   "cell_type": "markdown",
   "id": "95cfe9cf-19e0-489e-ad40-39d019568cf3",
   "metadata": {},
   "source": [
    "The coding size and the number of determines the performance of the network.   \n",
    "Tested with my data the following works well.  \n",
    "For Stacked Autoencoder Network:\n",
    "- coding_size = 16\n",
    "- epochs = 100"
   ]
  },
  {
   "cell_type": "code",
   "execution_count": null,
   "id": "3439a2a1-b814-4a15-b310-87522d7a16e7",
   "metadata": {
    "scrolled": true,
    "tags": []
   },
   "outputs": [],
   "source": [
    "history, network = autotrain.auto_train_initial(scorer_type='CNN', encoder_type='SAE', \n",
    "                                                coding_size=16, epochs=10)"
   ]
  },
  {
   "cell_type": "markdown",
   "id": "0c2fa9a0-e8d3-4c80-b6c1-0fcd1410cb49",
   "metadata": {},
   "source": [
    "Check the performance of the network"
   ]
  },
  {
   "cell_type": "code",
   "execution_count": null,
   "id": "c88b58d7-4c96-4942-b075-8d5541dc0537",
   "metadata": {},
   "outputs": [],
   "source": [
    "autoencoder.utils.model_loss_plots(history)"
   ]
  },
  {
   "cell_type": "code",
   "execution_count": null,
   "id": "d5743f42-9f37-450b-a177-3dfa1a2d7dbd",
   "metadata": {},
   "outputs": [],
   "source": [
    "autoencoder.utils.model_accuracy_plots(history)"
   ]
  },
  {
   "cell_type": "markdown",
   "id": "220889d3-9992-4c9a-bcbc-88444f02d673",
   "metadata": {},
   "source": [
    "##### Create Skeleton of egocenter before running this code below"
   ]
  },
  {
   "cell_type": "code",
   "execution_count": null,
   "id": "d857bd1d-45d0-46aa-b74d-e00f44288dd8",
   "metadata": {},
   "outputs": [],
   "source": [
    "autoencoder.utils.plot_trained_points(network, project_path, frame_number=1500)"
   ]
  },
  {
   "cell_type": "markdown",
   "id": "eb8a3e34-8804-4295-8983-32ec552863ba",
   "metadata": {},
   "source": [
    "##### If you trained a Variational Autoencoder Network, VAE, you can use the code below"
   ]
  },
  {
   "cell_type": "code",
   "execution_count": null,
   "id": "4828c21f-6adf-40a0-bbfd-a92e47588730",
   "metadata": {},
   "outputs": [],
   "source": [
    "autoencoder.utils.generate_random_animal_w_vae(auto, project_path)"
   ]
  },
  {
   "cell_type": "markdown",
   "id": "2cc66573-1368-4f56-bf2e-c1272e00d87e",
   "metadata": {},
   "source": [
    "##### Re-train the network if needed"
   ]
  },
  {
   "cell_type": "code",
   "execution_count": null,
   "id": "b13d2680-51c9-4f45-9f7e-97674d35e246",
   "metadata": {},
   "outputs": [],
   "source": [
    "history, network = autotrain.auto_retrain(scorer_type='CNN', encoder_type='SAE', \n",
    "                                          coding_size=16, epochs=10)"
   ]
  },
  {
   "cell_type": "markdown",
   "id": "4789d20d-c103-41b9-a351-7778ef808afb",
   "metadata": {},
   "source": [
    "### Predict with the Trained Network"
   ]
  },
  {
   "cell_type": "code",
   "execution_count": null,
   "id": "57c7d11a-2a8d-4071-abea-8675489e8e07",
   "metadata": {},
   "outputs": [],
   "source": [
    "autotrain.predict_w_trained_network(scorer_type='CNN', encoder_type='SAE')"
   ]
  },
  {
   "cell_type": "markdown",
   "id": "f377dcd3-bc22-4cba-8657-87279cd2d5ff",
   "metadata": {},
   "source": [
    "### Re-orient the egocentered Autoencoder files to original locations"
   ]
  },
  {
   "cell_type": "code",
   "execution_count": null,
   "id": "dcfaefcb-c158-45cb-a9bd-1471bd94d038",
   "metadata": {},
   "outputs": [],
   "source": [
    "autoenc.reorient_files(encoder_type='SAE')"
   ]
  },
  {
   "cell_type": "markdown",
   "id": "476822da-da79-447c-89e9-5f8e9cd21efe",
   "metadata": {},
   "source": [
    "### Create Pandas' table-style h5 files"
   ]
  },
  {
   "cell_type": "code",
   "execution_count": null,
   "id": "1bab21e7-2780-481e-8510-7a9839f27d3e",
   "metadata": {},
   "outputs": [],
   "source": [
    "autoenc.save_mat_to_h5(encoder_type='SAE')"
   ]
  },
  {
   "cell_type": "markdown",
   "id": "dadb34af-59c8-4c03-870c-7491a5a5cf3b",
   "metadata": {},
   "source": [
    "### Check the h5 files"
   ]
  },
  {
   "cell_type": "code",
   "execution_count": null,
   "id": "e69d62c3-ea97-4e42-98f3-26accea82311",
   "metadata": {},
   "outputs": [],
   "source": [
    "file_path = '/Users/senaagezo/Downloads/AutoTest-Sena-2022-04-17/autoencoder_data/Cohab1_pre_20211025_124326434/Cohab1_pre_20211025_124326434_SAE_animal_1_data.h5'"
   ]
  },
  {
   "cell_type": "code",
   "execution_count": null,
   "id": "97a65473-4fb2-4c8f-ae31-08e7a7c81ffb",
   "metadata": {},
   "outputs": [],
   "source": [
    "auxiliary_tools.utils.check_pandas_h5(file_path)"
   ]
  },
  {
   "cell_type": "markdown",
   "id": "b9063f19-5bdb-4cfd-b361-fda45a870d62",
   "metadata": {},
   "source": [
    "### Combine H5 files"
   ]
  },
  {
   "cell_type": "code",
   "execution_count": null,
   "id": "18cc1776-cb19-4b27-8cca-d9473d67307b",
   "metadata": {},
   "outputs": [],
   "source": [
    "autoenc.combine_animal_h5_files(encoder_type='SAE')"
   ]
  },
  {
   "cell_type": "code",
   "execution_count": null,
   "id": "948a3177-4326-4b1a-83f4-45f87463c461",
   "metadata": {},
   "outputs": [],
   "source": []
  }
 ],
 "metadata": {
  "kernelspec": {
   "display_name": "Python 3 (ipykernel)",
   "language": "python",
   "name": "python3"
  },
  "language_info": {
   "codemirror_mode": {
    "name": "ipython",
    "version": 3
   },
   "file_extension": ".py",
   "mimetype": "text/x-python",
   "name": "python",
   "nbconvert_exporter": "python",
   "pygments_lexer": "ipython3",
   "version": "3.8.13"
  }
 },
 "nbformat": 4,
 "nbformat_minor": 5
}
