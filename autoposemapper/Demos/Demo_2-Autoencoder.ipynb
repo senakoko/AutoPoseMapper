{
 "cells": [
  {
   "cell_type": "markdown",
   "id": "several-reward",
   "metadata": {},
   "source": [
    "# DEMO TO USE AUTOENCODER FUNCTIONS"
   ]
  },
  {
   "cell_type": "markdown",
   "id": "gross-champion",
   "metadata": {},
   "source": [
    "Follow the instructions here to use the autoencoder functions to correct tracking errors."
   ]
  },
  {
   "cell_type": "code",
   "execution_count": null,
   "id": "thorough-vermont",
   "metadata": {},
   "outputs": [],
   "source": [
    "import sys\n",
    "\n",
    "### Provide the path to the code directory\n",
    "sys.path.append('/path_to_where_the_package_is_downloaded_to/AutoPoseMapper/')"
   ]
  },
  {
   "cell_type": "code",
   "execution_count": null,
   "id": "enabling-property",
   "metadata": {},
   "outputs": [],
   "source": [
    "from autoposemapper.autoencoder.autoencoder_tools import AutoEncoderHelper\n",
    "from autoposemapper.autoencoder.autoencoder_train import AutoTrain\n",
    "from autoposemapper.autoencoder import utils as AE_utils\n",
    "from autoposemapper.auxiliary_tools import utils as AX_utils"
   ]
  },
  {
   "cell_type": "code",
   "execution_count": null,
   "id": "competent-austria",
   "metadata": {},
   "outputs": [],
   "source": [
    "project_path = '/the_path_to_project_folder/'"
   ]
  },
  {
   "cell_type": "code",
   "execution_count": null,
   "id": "genetic-aerospace",
   "metadata": {},
   "outputs": [],
   "source": [
    "autoenc = AutoEncoderHelper(project_path)"
   ]
  },
  {
   "cell_type": "markdown",
   "id": "above-reminder",
   "metadata": {},
   "source": [
    "### Egocenter the files "
   ]
  },
  {
   "cell_type": "code",
   "execution_count": null,
   "id": "greenhouse-characterization",
   "metadata": {},
   "outputs": [],
   "source": [
    "autoenc.egocenter_files(bind_center='midBody', b1='Nose', b2='tailStart', \n",
    "                            drop_point=True, which_points=['tailEnd'])"
   ]
  },
  {
   "cell_type": "markdown",
   "id": "specific-corruption",
   "metadata": {},
   "source": [
    "### Train Autoencoder Network"
   ]
  },
  {
   "cell_type": "code",
   "execution_count": null,
   "id": "latin-dialogue",
   "metadata": {},
   "outputs": [],
   "source": [
    "autotrain = AutoTrain(project_path)"
   ]
  },
  {
   "cell_type": "markdown",
   "id": "expected-campbell",
   "metadata": {},
   "source": [
    "The coding size and the number of determines the performance of the network.   \n",
    "Tested with my data the following works well.  \n",
    "For Stacked Autoencoder Network:\n",
    "- coding_size = 16\n",
    "- epochs = 100"
   ]
  },
  {
   "cell_type": "code",
   "execution_count": null,
   "id": "current-nightmare",
   "metadata": {
    "scrolled": true,
    "tags": []
   },
   "outputs": [],
   "source": [
    "history, network = autotrain.auto_train_initial(scorer_type='CNN', encoder_type='SAE', \n",
    "                                                coding_size=16, epochs=10)"
   ]
  },
  {
   "cell_type": "markdown",
   "id": "fatal-sudan",
   "metadata": {},
   "source": [
    "Check the performance of the network"
   ]
  },
  {
   "cell_type": "code",
   "execution_count": null,
   "id": "combined-toilet",
   "metadata": {},
   "outputs": [],
   "source": [
    "autoencoder.utils.model_loss_plots(history)"
   ]
  },
  {
   "cell_type": "code",
   "execution_count": null,
   "id": "union-employer",
   "metadata": {},
   "outputs": [],
   "source": [
    "autoencoder.utils.model_accuracy_plots(history)"
   ]
  },
  {
   "cell_type": "markdown",
   "id": "classified-survivor",
   "metadata": {},
   "source": [
    "##### Create Skeleton of egocenter before running this code below"
   ]
  },
  {
   "cell_type": "code",
   "execution_count": null,
   "id": "objective-hours",
   "metadata": {},
   "outputs": [],
   "source": [
    "autoencoder.utils.plot_trained_points(network, project_path, frame_number=1500)"
   ]
  },
  {
   "cell_type": "markdown",
   "id": "horizontal-prague",
   "metadata": {},
   "source": [
    "##### If you trained a Variational Autoencoder Network, VAE, you can use the code below"
   ]
  },
  {
   "cell_type": "code",
   "execution_count": null,
   "id": "variable-arnold",
   "metadata": {},
   "outputs": [],
   "source": [
    "autoencoder.utils.generate_random_animal_w_vae(auto, project_path)"
   ]
  },
  {
   "cell_type": "markdown",
   "id": "senior-balance",
   "metadata": {},
   "source": [
    "##### Re-train the network if needed"
   ]
  },
  {
   "cell_type": "code",
   "execution_count": null,
   "id": "destroyed-lexington",
   "metadata": {},
   "outputs": [],
   "source": [
    "history, network = autotrain.auto_retrain(scorer_type='CNN', encoder_type='SAE', \n",
    "                                          coding_size=16, epochs=10)"
   ]
  },
  {
   "cell_type": "markdown",
   "id": "acknowledged-savannah",
   "metadata": {},
   "source": [
    "### Predict with the Trained Network"
   ]
  },
  {
   "cell_type": "code",
   "execution_count": null,
   "id": "enhanced-convertible",
   "metadata": {},
   "outputs": [],
   "source": [
    "autotrain.predict_w_trained_network(scorer_type='CNN', encoder_type='SAE')"
   ]
  },
  {
   "cell_type": "markdown",
   "id": "divided-advertiser",
   "metadata": {},
   "source": [
    "### Re-orient the egocentered Autoencoder files to original locations"
   ]
  },
  {
   "cell_type": "code",
   "execution_count": null,
   "id": "spanish-corruption",
   "metadata": {},
   "outputs": [],
   "source": [
    "autoenc.reorient_files(encoder_type='SAE')"
   ]
  },
  {
   "cell_type": "markdown",
   "id": "simplified-proportion",
   "metadata": {},
   "source": [
    "### Create Pandas' table-style h5 files"
   ]
  },
  {
   "cell_type": "code",
   "execution_count": null,
   "id": "advance-liabilities",
   "metadata": {},
   "outputs": [],
   "source": [
    "autoenc.save_mat_to_h5(encoder_type='SAE')"
   ]
  },
  {
   "cell_type": "markdown",
   "id": "accurate-constant",
   "metadata": {},
   "source": [
    "### Check the h5 files"
   ]
  },
  {
   "cell_type": "code",
   "execution_count": null,
   "id": "starting-worker",
   "metadata": {},
   "outputs": [],
   "source": [
    "file_path = '/Users/senaagezo/Downloads/AutoTest-Sena-2022-04-17/autoencoder_data/Cohab1_pre_20211025_124326434/Cohab1_pre_20211025_124326434_SAE_animal_1_data.h5'"
   ]
  },
  {
   "cell_type": "code",
   "execution_count": null,
   "id": "material-mattress",
   "metadata": {},
   "outputs": [],
   "source": [
    "auxiliary_tools.utils.check_pandas_h5(file_path)"
   ]
  },
  {
   "cell_type": "markdown",
   "id": "placed-cardiff",
   "metadata": {},
   "source": [
    "### Combine H5 files"
   ]
  },
  {
   "cell_type": "code",
   "execution_count": null,
   "id": "offensive-initial",
   "metadata": {},
   "outputs": [],
   "source": [
    "autoenc.combine_animal_h5_files(encoder_type='SAE')"
   ]
  },
  {
   "cell_type": "code",
   "execution_count": null,
   "id": "moderate-integer",
   "metadata": {},
   "outputs": [],
   "source": []
  }
 ],
 "metadata": {
  "kernelspec": {
   "display_name": "Python 3",
   "language": "python",
   "name": "python3"
  },
  "language_info": {
   "codemirror_mode": {
    "name": "ipython",
    "version": 3
   },
   "file_extension": ".py",
   "mimetype": "text/x-python",
   "name": "python",
   "nbconvert_exporter": "python",
   "pygments_lexer": "ipython3",
   "version": "3.7.9"
  }
 },
 "nbformat": 4,
 "nbformat_minor": 5
}
