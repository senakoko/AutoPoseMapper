{
 "cells": [
  {
   "cell_type": "markdown",
   "id": "2dcf0354-5504-408c-a8bb-d81da78ad4b6",
   "metadata": {},
   "source": [
    "# DEMO TO USE AUTOENCODER FUNCTIONS"
   ]
  },
  {
   "cell_type": "markdown",
   "id": "6e5b29af-b840-4421-92e3-a1049a2e1272",
   "metadata": {},
   "source": [
    "This notebook is use the autoencoder functions to correct tracking errors."
   ]
  },
  {
   "cell_type": "code",
   "execution_count": 1,
   "id": "77f169e6-b670-4618-a8b6-e4c3fc92a77a",
   "metadata": {},
   "outputs": [],
   "source": [
    "import sys\n",
    "\n",
    "### Provide the path to the code directory\n",
    "sys.path.append('/Users/senaagezo/PycharmProjects/AutoPoseMapper/')"
   ]
  },
  {
   "cell_type": "code",
   "execution_count": 2,
   "id": "8a57232e-34ab-453f-828a-1b8d8a4c1c7f",
   "metadata": {},
   "outputs": [],
   "source": [
    "from autoposemapper.autoencoder.autoencoder_tools import AutoEncoderHelper\n",
    "from autoposemapper.autoencoder.autoencoder_train import AutoTrain\n",
    "from autoposemapper.autoencoder import utils as AE_utils\n",
    "from autoposemapper.auxiliary_tools import utils as AX_utils"
   ]
  },
  {
   "cell_type": "code",
   "execution_count": 3,
   "id": "afcfcc46-fd1d-48d1-ad90-3f04171af712",
   "metadata": {},
   "outputs": [],
   "source": [
    "project_path = '/Users/senaagezo/Downloads/AutoTest-Sena-2022-04-22/'"
   ]
  },
  {
   "cell_type": "code",
   "execution_count": 4,
   "id": "23da4220-e764-4bd6-869c-0c579237c565",
   "metadata": {},
   "outputs": [],
   "source": [
    "autoenc = AutoEncoderHelper(project_path)"
   ]
  },
  {
   "cell_type": "markdown",
   "id": "52bf9997-f530-4a0a-bf58-dcd6dab1ee00",
   "metadata": {},
   "source": [
    "### Egocenter the files "
   ]
  },
  {
   "cell_type": "code",
   "execution_count": 5,
   "id": "7454f469-cf20-4570-a98b-9269af7cd847",
   "metadata": {},
   "outputs": [
    {
     "name": "stdout",
     "output_type": "stream",
     "text": [
      "/Users/senaagezo/Downloads/AutoTest-Sena-2022-04-22/autoencoder_data/PPT_1A_2021_10_27_first_thirty_CNN.h5\n"
     ]
    },
    {
     "name": "stderr",
     "output_type": "stream",
     "text": [
      "100%|█████████████████████████████████████████████████████████████████████████████| 53999/53999 [00:00<00:00, 162620.72it/s]\n"
     ]
    }
   ],
   "source": [
    "autoenc.egocenter_files(bind_center='midBody', b1='Nose', b2='tailStart', \n",
    "                            drop_point=True, which_points=['tailEnd'])"
   ]
  },
  {
   "cell_type": "markdown",
   "id": "04ca4a64-4cca-434c-b399-033b7bb33aa0",
   "metadata": {},
   "source": [
    "### Train Autoencoder Network"
   ]
  },
  {
   "cell_type": "code",
   "execution_count": 6,
   "id": "893177a5-90e0-43f7-acbc-5328820c65fb",
   "metadata": {},
   "outputs": [],
   "source": [
    "autotrain = AutoTrain(project_path)"
   ]
  },
  {
   "cell_type": "markdown",
   "id": "95cfe9cf-19e0-489e-ad40-39d019568cf3",
   "metadata": {},
   "source": [
    "The coding size and the number of determines the performance of the network.   \n",
    "Tested with my data the following works well.  \n",
    "For Stacked Autoencoder Network:\n",
    "- coding_size = 16\n",
    "- epochs = 100"
   ]
  },
  {
   "cell_type": "code",
   "execution_count": 7,
   "id": "3439a2a1-b814-4a15-b310-87522d7a16e7",
   "metadata": {
    "scrolled": true,
    "tags": []
   },
   "outputs": [
    {
     "name": "stderr",
     "output_type": "stream",
     "text": [
      "2022-04-17 13:53:56.890994: I tensorflow/core/platform/cpu_feature_guard.cc:151] This TensorFlow binary is optimized with oneAPI Deep Neural Network Library (oneDNN) to use the following CPU instructions in performance-critical operations:  AVX2 FMA\n",
      "To enable them in other operations, rebuild TensorFlow with the appropriate compiler flags.\n"
     ]
    },
    {
     "name": "stdout",
     "output_type": "stream",
     "text": [
      "Cohab1_pre_20211025_124326434_CNN_ego_animal_1_data\n",
      "Epoch 1/10\n",
      "169/172 [============================>.] - ETA: 0s - loss: 3247.5317 - accuracy: 0.1991\n",
      "Epoch 1: val_loss improved from inf to 1222.55261, saving model to /Users/senaagezo/Downloads/AutoTest-Sena-2022-04-17/Training/training_SAE_16/cp-0001.ckpt\n",
      "172/172 [==============================] - 4s 13ms/step - loss: 3237.8953 - accuracy: 0.2000 - val_loss: 1222.5526 - val_accuracy: 0.4567\n",
      "Epoch 2/10\n",
      "171/172 [============================>.] - ETA: 0s - loss: 1390.7826 - accuracy: 0.4422\n",
      "Epoch 2: val_loss improved from 1222.55261 to 439.63159, saving model to /Users/senaagezo/Downloads/AutoTest-Sena-2022-04-17/Training/training_SAE_16/cp-0002.ckpt\n",
      "172/172 [==============================] - 2s 12ms/step - loss: 1390.6210 - accuracy: 0.4423 - val_loss: 439.6316 - val_accuracy: 0.6033\n",
      "Epoch 3/10\n",
      "167/172 [============================>.] - ETA: 0s - loss: 367.6041 - accuracy: 0.8347\n",
      "Epoch 3: val_loss improved from 439.63159 to 132.56036, saving model to /Users/senaagezo/Downloads/AutoTest-Sena-2022-04-17/Training/training_SAE_16/cp-0003.ckpt\n",
      "172/172 [==============================] - 2s 12ms/step - loss: 364.5538 - accuracy: 0.8370 - val_loss: 132.5604 - val_accuracy: 0.9667\n",
      "Epoch 4/10\n",
      "170/172 [============================>.] - ETA: 0s - loss: 177.8407 - accuracy: 0.9590\n",
      "Epoch 4: val_loss improved from 132.56036 to 74.14822, saving model to /Users/senaagezo/Downloads/AutoTest-Sena-2022-04-17/Training/training_SAE_16/cp-0004.ckpt\n",
      "172/172 [==============================] - 2s 12ms/step - loss: 177.7521 - accuracy: 0.9590 - val_loss: 74.1482 - val_accuracy: 0.9879\n",
      "Epoch 5/10\n",
      "170/172 [============================>.] - ETA: 0s - loss: 140.2540 - accuracy: 0.9680\n",
      "Epoch 5: val_loss improved from 74.14822 to 58.29095, saving model to /Users/senaagezo/Downloads/AutoTest-Sena-2022-04-17/Training/training_SAE_16/cp-0005.ckpt\n",
      "172/172 [==============================] - 2s 13ms/step - loss: 140.0593 - accuracy: 0.9680 - val_loss: 58.2909 - val_accuracy: 0.9890\n",
      "Epoch 6/10\n",
      "169/172 [============================>.] - ETA: 0s - loss: 127.3624 - accuracy: 0.9688\n",
      "Epoch 6: val_loss improved from 58.29095 to 48.31252, saving model to /Users/senaagezo/Downloads/AutoTest-Sena-2022-04-17/Training/training_SAE_16/cp-0006.ckpt\n",
      "172/172 [==============================] - 2s 13ms/step - loss: 126.8307 - accuracy: 0.9688 - val_loss: 48.3125 - val_accuracy: 0.9890\n",
      "Epoch 7/10\n",
      "169/172 [============================>.] - ETA: 0s - loss: 121.6447 - accuracy: 0.9695\n",
      "Epoch 7: val_loss improved from 48.31252 to 44.12456, saving model to /Users/senaagezo/Downloads/AutoTest-Sena-2022-04-17/Training/training_SAE_16/cp-0007.ckpt\n",
      "172/172 [==============================] - 3s 16ms/step - loss: 121.4932 - accuracy: 0.9695 - val_loss: 44.1246 - val_accuracy: 0.9896\n",
      "Epoch 8/10\n",
      "168/172 [============================>.] - ETA: 0s - loss: 118.8373 - accuracy: 0.9702\n",
      "Epoch 8: val_loss improved from 44.12456 to 42.47559, saving model to /Users/senaagezo/Downloads/AutoTest-Sena-2022-04-17/Training/training_SAE_16/cp-0008.ckpt\n",
      "172/172 [==============================] - 2s 12ms/step - loss: 118.3853 - accuracy: 0.9700 - val_loss: 42.4756 - val_accuracy: 0.9899\n",
      "Epoch 9/10\n",
      "169/172 [============================>.] - ETA: 0s - loss: 116.3790 - accuracy: 0.9705\n",
      "Epoch 9: val_loss improved from 42.47559 to 42.21130, saving model to /Users/senaagezo/Downloads/AutoTest-Sena-2022-04-17/Training/training_SAE_16/cp-0009.ckpt\n",
      "172/172 [==============================] - 2s 12ms/step - loss: 116.1994 - accuracy: 0.9704 - val_loss: 42.2113 - val_accuracy: 0.9900\n",
      "Epoch 10/10\n",
      "169/172 [============================>.] - ETA: 0s - loss: 114.7294 - accuracy: 0.9700\n",
      "Epoch 10: val_loss improved from 42.21130 to 41.92863, saving model to /Users/senaagezo/Downloads/AutoTest-Sena-2022-04-17/Training/training_SAE_16/cp-0010.ckpt\n",
      "172/172 [==============================] - 2s 13ms/step - loss: 114.5312 - accuracy: 0.9702 - val_loss: 41.9286 - val_accuracy: 0.9899\n",
      "Cohab1_pre_20211025_124326434_CNN_ego_animal_2_data\n",
      "Epoch 1/10\n",
      "167/172 [============================>.] - ETA: 0s - loss: 166.7459 - accuracy: 0.9686\n",
      "Epoch 1: val_loss improved from inf to 64.32975, saving model to /Users/senaagezo/Downloads/AutoTest-Sena-2022-04-17/Training/training_SAE_16/cp-0001.ckpt\n",
      "172/172 [==============================] - 2s 11ms/step - loss: 166.5730 - accuracy: 0.9686 - val_loss: 64.3298 - val_accuracy: 0.9841\n",
      "Epoch 2/10\n",
      "166/172 [===========================>..] - ETA: 0s - loss: 162.9181 - accuracy: 0.9684\n",
      "Epoch 2: val_loss improved from 64.32975 to 60.35135, saving model to /Users/senaagezo/Downloads/AutoTest-Sena-2022-04-17/Training/training_SAE_16/cp-0002.ckpt\n",
      "172/172 [==============================] - 2s 10ms/step - loss: 161.2426 - accuracy: 0.9686 - val_loss: 60.3514 - val_accuracy: 0.9843\n",
      "Epoch 3/10\n",
      "169/172 [============================>.] - ETA: 0s - loss: 159.6209 - accuracy: 0.9684\n",
      "Epoch 3: val_loss improved from 60.35135 to 60.06466, saving model to /Users/senaagezo/Downloads/AutoTest-Sena-2022-04-17/Training/training_SAE_16/cp-0003.ckpt\n",
      "172/172 [==============================] - 2s 10ms/step - loss: 158.7797 - accuracy: 0.9685 - val_loss: 60.0647 - val_accuracy: 0.9837\n",
      "Epoch 4/10\n",
      "171/172 [============================>.] - ETA: 0s - loss: 157.3682 - accuracy: 0.9684\n",
      "Epoch 4: val_loss improved from 60.06466 to 58.40701, saving model to /Users/senaagezo/Downloads/AutoTest-Sena-2022-04-17/Training/training_SAE_16/cp-0004.ckpt\n",
      "172/172 [==============================] - 2s 10ms/step - loss: 157.3606 - accuracy: 0.9684 - val_loss: 58.4070 - val_accuracy: 0.9842\n",
      "Epoch 5/10\n",
      "172/172 [==============================] - ETA: 0s - loss: 154.4107 - accuracy: 0.9681\n",
      "Epoch 5: val_loss did not improve from 58.40701\n",
      "172/172 [==============================] - 2s 12ms/step - loss: 154.4107 - accuracy: 0.9681 - val_loss: 58.7835 - val_accuracy: 0.9838\n",
      "Epoch 6/10\n",
      "169/172 [============================>.] - ETA: 0s - loss: 153.0989 - accuracy: 0.9684\n",
      "Epoch 6: val_loss did not improve from 58.40701\n",
      "172/172 [==============================] - 2s 12ms/step - loss: 152.6614 - accuracy: 0.9685 - val_loss: 60.9655 - val_accuracy: 0.9838\n",
      "Epoch 7/10\n",
      "167/172 [============================>.] - ETA: 0s - loss: 153.7109 - accuracy: 0.9690\n",
      "Epoch 7: val_loss did not improve from 58.40701\n",
      "172/172 [==============================] - 2s 10ms/step - loss: 152.2876 - accuracy: 0.9690 - val_loss: 59.1880 - val_accuracy: 0.9838\n",
      "Epoch 8/10\n",
      "169/172 [============================>.] - ETA: 0s - loss: 151.0302 - accuracy: 0.9685\n",
      "Epoch 8: val_loss did not improve from 58.40701\n",
      "172/172 [==============================] - 2s 10ms/step - loss: 150.2390 - accuracy: 0.9686 - val_loss: 62.2186 - val_accuracy: 0.9840\n",
      "Epoch 9/10\n",
      "172/172 [==============================] - ETA: 0s - loss: 148.6002 - accuracy: 0.9692\n",
      "Epoch 9: val_loss did not improve from 58.40701\n",
      "172/172 [==============================] - 2s 11ms/step - loss: 148.6002 - accuracy: 0.9692 - val_loss: 58.7855 - val_accuracy: 0.9839\n",
      "Epoch 10/10\n",
      "166/172 [===========================>..] - ETA: 0s - loss: 147.8333 - accuracy: 0.9684\n",
      "Epoch 10: val_loss did not improve from 58.40701\n",
      "172/172 [==============================] - 2s 10ms/step - loss: 147.8413 - accuracy: 0.9684 - val_loss: 58.5657 - val_accuracy: 0.9840\n"
     ]
    },
    {
     "name": "stderr",
     "output_type": "stream",
     "text": [
      "2022-04-17 13:54:41.849737: W tensorflow/python/util/util.cc:368] Sets are not currently considered sequences, but this may change in the future, so consider avoiding using them.\n"
     ]
    },
    {
     "name": "stdout",
     "output_type": "stream",
     "text": [
      "INFO:tensorflow:Assets written to: /Users/senaagezo/Downloads/AutoTest-Sena-2022-04-17/Training/models/model_SAE_16_0/assets\n"
     ]
    }
   ],
   "source": [
    "history, network = autotrain.auto_train_initial(scorer_type='CNN', encoder_type='SAE', \n",
    "                                                coding_size=16, epochs=10)"
   ]
  },
  {
   "cell_type": "markdown",
   "id": "0c2fa9a0-e8d3-4c80-b6c1-0fcd1410cb49",
   "metadata": {},
   "source": [
    "Check the performance of the network"
   ]
  },
  {
   "cell_type": "code",
   "execution_count": 9,
   "id": "c88b58d7-4c96-4942-b075-8d5541dc0537",
   "metadata": {},
   "outputs": [
    {
     "data": {
      "image/png": "[encoded data removed]",
      "text/plain": [
       "<Figure size 432x288 with 1 Axes>"
      ]
     },
     "metadata": {
      "needs_background": "light"
     },
     "output_type": "display_data"
    }
   ],
   "source": [
    "autoencoder.utils.model_loss_plots(history)"
   ]
  },
  {
   "cell_type": "code",
   "execution_count": 10,
   "id": "d5743f42-9f37-450b-a177-3dfa1a2d7dbd",
   "metadata": {},
   "outputs": [
    {
     "data": {
      "image/png": "[encoded data removed]",
      "text/plain": [
       "<Figure size 432x288 with 1 Axes>"
      ]
     },
     "metadata": {
      "needs_background": "light"
     },
     "output_type": "display_data"
    }
   ],
   "source": [
    "autoencoder.utils.model_accuracy_plots(history)"
   ]
  },
  {
   "cell_type": "markdown",
   "id": "220889d3-9992-4c9a-bcbc-88444f02d673",
   "metadata": {},
   "source": [
    "##### Create Skeleton of egocenter before running this code below"
   ]
  },
  {
   "cell_type": "code",
   "execution_count": 12,
   "id": "d857bd1d-45d0-46aa-b74d-e00f44288dd8",
   "metadata": {},
   "outputs": [
    {
     "data": {
      "image/png": "[encoded data removed]",
      "text/plain": [
       "<Figure size 720x720 with 1 Axes>"
      ]
     },
     "metadata": {
      "needs_background": "light"
     },
     "output_type": "display_data"
    }
   ],
   "source": [
    "autoencoder.utils.plot_trained_points(network, project_path, frame_number=1500)"
   ]
  },
  {
   "cell_type": "markdown",
   "id": "eb8a3e34-8804-4295-8983-32ec552863ba",
   "metadata": {},
   "source": [
    "##### If you trained a Variational Autoencoder Network, VAE, you can use the code below"
   ]
  },
  {
   "cell_type": "code",
   "execution_count": null,
   "id": "4828c21f-6adf-40a0-bbfd-a92e47588730",
   "metadata": {},
   "outputs": [],
   "source": [
    "autoencoder.utils.generate_random_animal_w_vae(auto, project_path)"
   ]
  },
  {
   "cell_type": "markdown",
   "id": "2cc66573-1368-4f56-bf2e-c1272e00d87e",
   "metadata": {},
   "source": [
    "##### Re-train the network if needed"
   ]
  },
  {
   "cell_type": "code",
   "execution_count": null,
   "id": "b13d2680-51c9-4f45-9f7e-97674d35e246",
   "metadata": {},
   "outputs": [],
   "source": [
    "history, network = autotrain.auto_retrain(scorer_type='CNN', encoder_type='SAE', \n",
    "                                          coding_size=16, epochs=10)"
   ]
  },
  {
   "cell_type": "markdown",
   "id": "4789d20d-c103-41b9-a351-7778ef808afb",
   "metadata": {},
   "source": [
    "### Predict with the Trained Network"
   ]
  },
  {
   "cell_type": "code",
   "execution_count": 13,
   "id": "57c7d11a-2a8d-4071-abea-8675489e8e07",
   "metadata": {},
   "outputs": [
    {
     "name": "stdout",
     "output_type": "stream",
     "text": [
      "/Users/senaagezo/Downloads/AutoTest-Sena-2022-04-17/Training/models/model_SAE_16_0\n",
      "/Users/senaagezo/Downloads/AutoTest-Sena-2022-04-17/autoencoder_data/Cohab1_pre_20211025_124326434/Cohab1_pre_20211025_124326434_SAE_ego_animal_1_data.mat\n",
      "/Users/senaagezo/Downloads/AutoTest-Sena-2022-04-17/autoencoder_data/Cohab1_pre_20211025_124326434/Cohab1_pre_20211025_124326434_SAE_ego_animal_2_data.mat\n"
     ]
    }
   ],
   "source": [
    "autotrain.predict_w_trained_network(scorer_type='CNN', encoder_type='SAE')"
   ]
  },
  {
   "cell_type": "markdown",
   "id": "f377dcd3-bc22-4cba-8657-87279cd2d5ff",
   "metadata": {},
   "source": [
    "### Re-orient the egocentered Autoencoder files to original locations"
   ]
  },
  {
   "cell_type": "code",
   "execution_count": 5,
   "id": "dcfaefcb-c158-45cb-a9bd-1471bd94d038",
   "metadata": {},
   "outputs": [
    {
     "name": "stdout",
     "output_type": "stream",
     "text": [
      "/Users/senaagezo/Downloads/AutoTest-Sena-2022-04-17/autoencoder_data/Cohab1_pre_20211025_124326434/Cohab1_pre_20211025_124326434_SAE_animal_1_data.mat\n"
     ]
    },
    {
     "name": "stderr",
     "output_type": "stream",
     "text": [
      "100%|█████████████████████████████████████████████████████████████████████████████| 54733/54733 [00:00<00:00, 146624.46it/s]\n"
     ]
    },
    {
     "name": "stdout",
     "output_type": "stream",
     "text": [
      "/Users/senaagezo/Downloads/AutoTest-Sena-2022-04-17/autoencoder_data/Cohab1_pre_20211025_124326434/Cohab1_pre_20211025_124326434_SAE_animal_2_data.mat\n"
     ]
    },
    {
     "name": "stderr",
     "output_type": "stream",
     "text": [
      "100%|█████████████████████████████████████████████████████████████████████████████| 54733/54733 [00:00<00:00, 149177.29it/s]\n"
     ]
    }
   ],
   "source": [
    "autoenc.reorient_files(encoder_type='SAE')"
   ]
  },
  {
   "cell_type": "markdown",
   "id": "476822da-da79-447c-89e9-5f8e9cd21efe",
   "metadata": {},
   "source": [
    "### Create Pandas' table-style h5 files"
   ]
  },
  {
   "cell_type": "code",
   "execution_count": 5,
   "id": "1bab21e7-2780-481e-8510-7a9839f27d3e",
   "metadata": {},
   "outputs": [
    {
     "name": "stderr",
     "output_type": "stream",
     "text": [
      " 50%|████████████████████████████████████████████▌                                            | 1/2 [00:00<00:00,  5.55it/s]"
     ]
    },
    {
     "name": "stdout",
     "output_type": "stream",
     "text": [
      "Cohab1_pre_20211025_124326434_SAE_animal_1_data.h5\n",
      "Cohab1_pre_20211025_124326434_SAE_animal_2_data.h5\n"
     ]
    },
    {
     "name": "stderr",
     "output_type": "stream",
     "text": [
      "100%|█████████████████████████████████████████████████████████████████████████████████████████| 2/2 [00:00<00:00,  7.48it/s]\n"
     ]
    }
   ],
   "source": [
    "autoenc.save_mat_to_h5(encoder_type='SAE')"
   ]
  },
  {
   "cell_type": "markdown",
   "id": "dadb34af-59c8-4c03-870c-7491a5a5cf3b",
   "metadata": {},
   "source": [
    "### Check the h5 files"
   ]
  },
  {
   "cell_type": "code",
   "execution_count": 6,
   "id": "e69d62c3-ea97-4e42-98f3-26accea82311",
   "metadata": {},
   "outputs": [],
   "source": [
    "file_path = '/Users/senaagezo/Downloads/AutoTest-Sena-2022-04-17/autoencoder_data/Cohab1_pre_20211025_124326434/Cohab1_pre_20211025_124326434_SAE_animal_1_data.h5'"
   ]
  },
  {
   "cell_type": "code",
   "execution_count": 7,
   "id": "97a65473-4fb2-4c8f-ae31-08e7a7c81ffb",
   "metadata": {},
   "outputs": [
    {
     "data": {
      "text/html": [
       "<div>\n",
       "<style scoped>\n",
       "    .dataframe tbody tr th:only-of-type {\n",
       "        vertical-align: middle;\n",
       "    }\n",
       "\n",
       "    .dataframe tbody tr th {\n",
       "        vertical-align: top;\n",
       "    }\n",
       "\n",
       "    .dataframe thead tr th {\n",
       "        text-align: left;\n",
       "    }\n",
       "</style>\n",
       "<table border=\"1\" class=\"dataframe\">\n",
       "  <thead>\n",
       "    <tr>\n",
       "      <th>scorer</th>\n",
       "      <th colspan=\"21\" halign=\"left\">Stacked_Autoencoder</th>\n",
       "    </tr>\n",
       "    <tr>\n",
       "      <th>bodyparts</th>\n",
       "      <th colspan=\"2\" halign=\"left\">Nose</th>\n",
       "      <th colspan=\"2\" halign=\"left\">leftEar</th>\n",
       "      <th colspan=\"2\" halign=\"left\">betweenEars</th>\n",
       "      <th colspan=\"2\" halign=\"left\">rightEar</th>\n",
       "      <th colspan=\"2\" halign=\"left\">leftHip</th>\n",
       "      <th>...</th>\n",
       "      <th colspan=\"2\" halign=\"left\">betweenEars_rightEar</th>\n",
       "      <th colspan=\"2\" halign=\"left\">betweenEars_midBody</th>\n",
       "      <th colspan=\"2\" halign=\"left\">midBody_midHip</th>\n",
       "      <th colspan=\"2\" halign=\"left\">leftHip_midHip</th>\n",
       "      <th colspan=\"2\" halign=\"left\">midHip_rightHip</th>\n",
       "    </tr>\n",
       "    <tr>\n",
       "      <th>coords</th>\n",
       "      <th>x</th>\n",
       "      <th>y</th>\n",
       "      <th>x</th>\n",
       "      <th>y</th>\n",
       "      <th>x</th>\n",
       "      <th>y</th>\n",
       "      <th>x</th>\n",
       "      <th>y</th>\n",
       "      <th>x</th>\n",
       "      <th>y</th>\n",
       "      <th>...</th>\n",
       "      <th>x</th>\n",
       "      <th>y</th>\n",
       "      <th>x</th>\n",
       "      <th>y</th>\n",
       "      <th>x</th>\n",
       "      <th>y</th>\n",
       "      <th>x</th>\n",
       "      <th>y</th>\n",
       "      <th>x</th>\n",
       "      <th>y</th>\n",
       "    </tr>\n",
       "  </thead>\n",
       "  <tbody>\n",
       "    <tr>\n",
       "      <th>0</th>\n",
       "      <td>438.582455</td>\n",
       "      <td>1342.469833</td>\n",
       "      <td>438.368198</td>\n",
       "      <td>1258.625668</td>\n",
       "      <td>401.472351</td>\n",
       "      <td>1274.510208</td>\n",
       "      <td>364.354052</td>\n",
       "      <td>1295.582329</td>\n",
       "      <td>395.664625</td>\n",
       "      <td>1120.421486</td>\n",
       "      <td>...</td>\n",
       "      <td>383.037016</td>\n",
       "      <td>1287.987679</td>\n",
       "      <td>389.300393</td>\n",
       "      <td>1247.919567</td>\n",
       "      <td>362.859863</td>\n",
       "      <td>1166.306034</td>\n",
       "      <td>382.309895</td>\n",
       "      <td>1119.648598</td>\n",
       "      <td>323.449860</td>\n",
       "      <td>1134.502747</td>\n",
       "    </tr>\n",
       "    <tr>\n",
       "      <th>1</th>\n",
       "      <td>438.582455</td>\n",
       "      <td>1342.469833</td>\n",
       "      <td>438.368198</td>\n",
       "      <td>1258.625668</td>\n",
       "      <td>401.472351</td>\n",
       "      <td>1274.510208</td>\n",
       "      <td>364.354052</td>\n",
       "      <td>1295.582329</td>\n",
       "      <td>395.664625</td>\n",
       "      <td>1120.421486</td>\n",
       "      <td>...</td>\n",
       "      <td>383.037016</td>\n",
       "      <td>1287.987679</td>\n",
       "      <td>389.300393</td>\n",
       "      <td>1247.919567</td>\n",
       "      <td>362.859863</td>\n",
       "      <td>1166.306034</td>\n",
       "      <td>382.309895</td>\n",
       "      <td>1119.648598</td>\n",
       "      <td>323.449860</td>\n",
       "      <td>1134.502747</td>\n",
       "    </tr>\n",
       "    <tr>\n",
       "      <th>2</th>\n",
       "      <td>461.225708</td>\n",
       "      <td>1313.050346</td>\n",
       "      <td>427.931778</td>\n",
       "      <td>1244.347546</td>\n",
       "      <td>397.023487</td>\n",
       "      <td>1268.226166</td>\n",
       "      <td>364.724735</td>\n",
       "      <td>1297.166374</td>\n",
       "      <td>390.067474</td>\n",
       "      <td>1125.218506</td>\n",
       "      <td>...</td>\n",
       "      <td>382.420849</td>\n",
       "      <td>1285.659790</td>\n",
       "      <td>378.423229</td>\n",
       "      <td>1245.035324</td>\n",
       "      <td>351.208842</td>\n",
       "      <td>1165.342186</td>\n",
       "      <td>377.109207</td>\n",
       "      <td>1122.981407</td>\n",
       "      <td>317.690258</td>\n",
       "      <td>1130.355904</td>\n",
       "    </tr>\n",
       "    <tr>\n",
       "      <th>3</th>\n",
       "      <td>467.073738</td>\n",
       "      <td>1309.713501</td>\n",
       "      <td>438.145981</td>\n",
       "      <td>1238.274710</td>\n",
       "      <td>408.415371</td>\n",
       "      <td>1263.722668</td>\n",
       "      <td>378.513767</td>\n",
       "      <td>1293.362984</td>\n",
       "      <td>385.370878</td>\n",
       "      <td>1120.000244</td>\n",
       "      <td>...</td>\n",
       "      <td>394.729914</td>\n",
       "      <td>1280.744911</td>\n",
       "      <td>388.691927</td>\n",
       "      <td>1242.068840</td>\n",
       "      <td>351.817602</td>\n",
       "      <td>1165.275871</td>\n",
       "      <td>372.221213</td>\n",
       "      <td>1119.723991</td>\n",
       "      <td>313.506500</td>\n",
       "      <td>1134.404068</td>\n",
       "    </tr>\n",
       "    <tr>\n",
       "      <th>4</th>\n",
       "      <td>503.526802</td>\n",
       "      <td>1305.274010</td>\n",
       "      <td>458.176430</td>\n",
       "      <td>1233.161657</td>\n",
       "      <td>433.894394</td>\n",
       "      <td>1263.972328</td>\n",
       "      <td>408.353586</td>\n",
       "      <td>1298.074699</td>\n",
       "      <td>378.952682</td>\n",
       "      <td>1115.092155</td>\n",
       "      <td>...</td>\n",
       "      <td>424.411213</td>\n",
       "      <td>1284.189774</td>\n",
       "      <td>406.661245</td>\n",
       "      <td>1242.793011</td>\n",
       "      <td>352.920969</td>\n",
       "      <td>1166.777714</td>\n",
       "      <td>366.144330</td>\n",
       "      <td>1116.359344</td>\n",
       "      <td>309.375504</td>\n",
       "      <td>1138.838142</td>\n",
       "    </tr>\n",
       "    <tr>\n",
       "      <th>...</th>\n",
       "      <td>...</td>\n",
       "      <td>...</td>\n",
       "      <td>...</td>\n",
       "      <td>...</td>\n",
       "      <td>...</td>\n",
       "      <td>...</td>\n",
       "      <td>...</td>\n",
       "      <td>...</td>\n",
       "      <td>...</td>\n",
       "      <td>...</td>\n",
       "      <td>...</td>\n",
       "      <td>...</td>\n",
       "      <td>...</td>\n",
       "      <td>...</td>\n",
       "      <td>...</td>\n",
       "      <td>...</td>\n",
       "      <td>...</td>\n",
       "      <td>...</td>\n",
       "      <td>...</td>\n",
       "      <td>...</td>\n",
       "      <td>...</td>\n",
       "    </tr>\n",
       "    <tr>\n",
       "      <th>54728</th>\n",
       "      <td>336.178116</td>\n",
       "      <td>475.237061</td>\n",
       "      <td>395.323116</td>\n",
       "      <td>423.600204</td>\n",
       "      <td>357.863194</td>\n",
       "      <td>409.938564</td>\n",
       "      <td>318.787483</td>\n",
       "      <td>404.058548</td>\n",
       "      <td>438.499645</td>\n",
       "      <td>297.979359</td>\n",
       "      <td>...</td>\n",
       "      <td>336.648926</td>\n",
       "      <td>407.832527</td>\n",
       "      <td>365.505387</td>\n",
       "      <td>386.248764</td>\n",
       "      <td>387.587615</td>\n",
       "      <td>314.497601</td>\n",
       "      <td>425.900349</td>\n",
       "      <td>290.055603</td>\n",
       "      <td>370.844480</td>\n",
       "      <td>271.933632</td>\n",
       "    </tr>\n",
       "    <tr>\n",
       "      <th>54729</th>\n",
       "      <td>336.178188</td>\n",
       "      <td>475.237061</td>\n",
       "      <td>395.323156</td>\n",
       "      <td>423.600075</td>\n",
       "      <td>357.863235</td>\n",
       "      <td>409.938465</td>\n",
       "      <td>318.787529</td>\n",
       "      <td>404.058399</td>\n",
       "      <td>438.499630</td>\n",
       "      <td>297.979294</td>\n",
       "      <td>...</td>\n",
       "      <td>336.648941</td>\n",
       "      <td>407.832439</td>\n",
       "      <td>365.505438</td>\n",
       "      <td>386.248604</td>\n",
       "      <td>387.587634</td>\n",
       "      <td>314.497520</td>\n",
       "      <td>425.900356</td>\n",
       "      <td>290.055504</td>\n",
       "      <td>370.844481</td>\n",
       "      <td>271.933563</td>\n",
       "    </tr>\n",
       "    <tr>\n",
       "      <th>54730</th>\n",
       "      <td>336.178116</td>\n",
       "      <td>475.237061</td>\n",
       "      <td>395.323116</td>\n",
       "      <td>423.600204</td>\n",
       "      <td>357.863194</td>\n",
       "      <td>409.938564</td>\n",
       "      <td>318.787483</td>\n",
       "      <td>404.058548</td>\n",
       "      <td>438.499645</td>\n",
       "      <td>297.979359</td>\n",
       "      <td>...</td>\n",
       "      <td>336.648926</td>\n",
       "      <td>407.832527</td>\n",
       "      <td>365.505387</td>\n",
       "      <td>386.248764</td>\n",
       "      <td>387.587615</td>\n",
       "      <td>314.497601</td>\n",
       "      <td>425.900349</td>\n",
       "      <td>290.055603</td>\n",
       "      <td>370.844480</td>\n",
       "      <td>271.933632</td>\n",
       "    </tr>\n",
       "    <tr>\n",
       "      <th>54731</th>\n",
       "      <td>336.178188</td>\n",
       "      <td>475.237061</td>\n",
       "      <td>395.323156</td>\n",
       "      <td>423.600075</td>\n",
       "      <td>357.863235</td>\n",
       "      <td>409.938465</td>\n",
       "      <td>318.787529</td>\n",
       "      <td>404.058399</td>\n",
       "      <td>438.499630</td>\n",
       "      <td>297.979294</td>\n",
       "      <td>...</td>\n",
       "      <td>336.648941</td>\n",
       "      <td>407.832439</td>\n",
       "      <td>365.505438</td>\n",
       "      <td>386.248604</td>\n",
       "      <td>387.587634</td>\n",
       "      <td>314.497520</td>\n",
       "      <td>425.900356</td>\n",
       "      <td>290.055504</td>\n",
       "      <td>370.844481</td>\n",
       "      <td>271.933563</td>\n",
       "    </tr>\n",
       "    <tr>\n",
       "      <th>54732</th>\n",
       "      <td>336.177296</td>\n",
       "      <td>475.250053</td>\n",
       "      <td>395.317345</td>\n",
       "      <td>423.606476</td>\n",
       "      <td>357.855541</td>\n",
       "      <td>409.949974</td>\n",
       "      <td>318.778755</td>\n",
       "      <td>404.073833</td>\n",
       "      <td>438.484379</td>\n",
       "      <td>297.978199</td>\n",
       "      <td>...</td>\n",
       "      <td>336.641003</td>\n",
       "      <td>407.845886</td>\n",
       "      <td>365.494650</td>\n",
       "      <td>386.258194</td>\n",
       "      <td>387.572207</td>\n",
       "      <td>314.499977</td>\n",
       "      <td>425.885654</td>\n",
       "      <td>290.055332</td>\n",
       "      <td>370.828300</td>\n",
       "      <td>271.933586</td>\n",
       "    </tr>\n",
       "  </tbody>\n",
       "</table>\n",
       "<p>54733 rows × 42 columns</p>\n",
       "</div>"
      ],
      "text/plain": [
       "scorer    Stacked_Autoencoder                                        \\\n",
       "bodyparts                Nose                  leftEar                \n",
       "coords                      x            y           x            y   \n",
       "0                  438.582455  1342.469833  438.368198  1258.625668   \n",
       "1                  438.582455  1342.469833  438.368198  1258.625668   \n",
       "2                  461.225708  1313.050346  427.931778  1244.347546   \n",
       "3                  467.073738  1309.713501  438.145981  1238.274710   \n",
       "4                  503.526802  1305.274010  458.176430  1233.161657   \n",
       "...                       ...          ...         ...          ...   \n",
       "54728              336.178116   475.237061  395.323116   423.600204   \n",
       "54729              336.178188   475.237061  395.323156   423.600075   \n",
       "54730              336.178116   475.237061  395.323116   423.600204   \n",
       "54731              336.178188   475.237061  395.323156   423.600075   \n",
       "54732              336.177296   475.250053  395.317345   423.606476   \n",
       "\n",
       "scorer                                                                   \\\n",
       "bodyparts betweenEars                 rightEar                  leftHip   \n",
       "coords              x            y           x            y           x   \n",
       "0          401.472351  1274.510208  364.354052  1295.582329  395.664625   \n",
       "1          401.472351  1274.510208  364.354052  1295.582329  395.664625   \n",
       "2          397.023487  1268.226166  364.724735  1297.166374  390.067474   \n",
       "3          408.415371  1263.722668  378.513767  1293.362984  385.370878   \n",
       "4          433.894394  1263.972328  408.353586  1298.074699  378.952682   \n",
       "...               ...          ...         ...          ...         ...   \n",
       "54728      357.863194   409.938564  318.787483   404.058548  438.499645   \n",
       "54729      357.863235   409.938465  318.787529   404.058399  438.499630   \n",
       "54730      357.863194   409.938564  318.787483   404.058548  438.499645   \n",
       "54731      357.863235   409.938465  318.787529   404.058399  438.499630   \n",
       "54732      357.855541   409.949974  318.778755   404.073833  438.484379   \n",
       "\n",
       "scorer                  ...                                    \\\n",
       "bodyparts               ... betweenEars_rightEar                \n",
       "coords               y  ...                    x            y   \n",
       "0          1120.421486  ...           383.037016  1287.987679   \n",
       "1          1120.421486  ...           383.037016  1287.987679   \n",
       "2          1125.218506  ...           382.420849  1285.659790   \n",
       "3          1120.000244  ...           394.729914  1280.744911   \n",
       "4          1115.092155  ...           424.411213  1284.189774   \n",
       "...                ...  ...                  ...          ...   \n",
       "54728       297.979359  ...           336.648926   407.832527   \n",
       "54729       297.979294  ...           336.648941   407.832439   \n",
       "54730       297.979359  ...           336.648926   407.832527   \n",
       "54731       297.979294  ...           336.648941   407.832439   \n",
       "54732       297.978199  ...           336.641003   407.845886   \n",
       "\n",
       "scorer                                                                  \\\n",
       "bodyparts betweenEars_midBody              midBody_midHip                \n",
       "coords                      x            y              x            y   \n",
       "0                  389.300393  1247.919567     362.859863  1166.306034   \n",
       "1                  389.300393  1247.919567     362.859863  1166.306034   \n",
       "2                  378.423229  1245.035324     351.208842  1165.342186   \n",
       "3                  388.691927  1242.068840     351.817602  1165.275871   \n",
       "4                  406.661245  1242.793011     352.920969  1166.777714   \n",
       "...                       ...          ...            ...          ...   \n",
       "54728              365.505387   386.248764     387.587615   314.497601   \n",
       "54729              365.505438   386.248604     387.587634   314.497520   \n",
       "54730              365.505387   386.248764     387.587615   314.497601   \n",
       "54731              365.505438   386.248604     387.587634   314.497520   \n",
       "54732              365.494650   386.258194     387.572207   314.499977   \n",
       "\n",
       "scorer                                                              \n",
       "bodyparts leftHip_midHip              midHip_rightHip               \n",
       "coords                 x            y               x            y  \n",
       "0             382.309895  1119.648598      323.449860  1134.502747  \n",
       "1             382.309895  1119.648598      323.449860  1134.502747  \n",
       "2             377.109207  1122.981407      317.690258  1130.355904  \n",
       "3             372.221213  1119.723991      313.506500  1134.404068  \n",
       "4             366.144330  1116.359344      309.375504  1138.838142  \n",
       "...                  ...          ...             ...          ...  \n",
       "54728         425.900349   290.055603      370.844480   271.933632  \n",
       "54729         425.900356   290.055504      370.844481   271.933563  \n",
       "54730         425.900349   290.055603      370.844480   271.933632  \n",
       "54731         425.900356   290.055504      370.844481   271.933563  \n",
       "54732         425.885654   290.055332      370.828300   271.933586  \n",
       "\n",
       "[54733 rows x 42 columns]"
      ]
     },
     "execution_count": 7,
     "metadata": {},
     "output_type": "execute_result"
    }
   ],
   "source": [
    "auxiliary_tools.utils.check_pandas_h5(file_path)"
   ]
  },
  {
   "cell_type": "markdown",
   "id": "b9063f19-5bdb-4cfd-b361-fda45a870d62",
   "metadata": {},
   "source": [
    "### Combine H5 files"
   ]
  },
  {
   "cell_type": "code",
   "execution_count": 8,
   "id": "18cc1776-cb19-4b27-8cca-d9473d67307b",
   "metadata": {},
   "outputs": [
    {
     "name": "stdout",
     "output_type": "stream",
     "text": [
      "/Users/senaagezo/Downloads/AutoTest-Sena-2022-04-17/autoencoder_data/Cohab1_pre_20211025_124326434/Cohab1_pre_20211025_124326434_SAE_animal_1_data.h5\n",
      "\n",
      "/Users/senaagezo/Downloads/AutoTest-Sena-2022-04-17/autoencoder_data/Cohab1_pre_20211025_124326434/Cohab1_pre_20211025_124326434_SAE_animal_2_data.h5\n",
      "\n"
     ]
    }
   ],
   "source": [
    "autoenc.combine_animal_h5_files(encoder_type='SAE')"
   ]
  },
  {
   "cell_type": "code",
   "execution_count": null,
   "id": "948a3177-4326-4b1a-83f4-45f87463c461",
   "metadata": {},
   "outputs": [],
   "source": []
  }
 ],
 "metadata": {
  "kernelspec": {
   "display_name": "Python 3 (ipykernel)",
   "language": "python",
   "name": "python3"
  },
  "language_info": {
   "codemirror_mode": {
    "name": "ipython",
    "version": 3
   },
   "file_extension": ".py",
   "mimetype": "text/x-python",
   "name": "python",
   "nbconvert_exporter": "python",
   "pygments_lexer": "ipython3",
   "version": "3.7.13"
  }
 },
 "nbformat": 4,
 "nbformat_minor": 5
}
