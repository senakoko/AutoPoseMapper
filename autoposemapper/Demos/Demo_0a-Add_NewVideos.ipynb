{
 "cells": [
  {
   "cell_type": "markdown",
   "id": "1f820465-c6d7-4d21-ac50-b749e56fd7ae",
   "metadata": {},
   "source": [
    "Follow the instructions here to add new videos to an existing project folder."
   ]
  },
  {
   "cell_type": "code",
   "execution_count": null,
   "id": "1b81f908-f7d0-477d-8c0b-b9627e3cee35",
   "metadata": {},
   "outputs": [],
   "source": [
    "import sys\n",
    "\n",
    "### Provide the path to the code directory\n",
    "sys.path.append('/path_to_where_the_package_is_downloaded_to/AutoPoseMapper/')"
   ]
  },
  {
   "cell_type": "code",
   "execution_count": null,
   "id": "ce5d32ef-6fc2-40e2-aa54-d08440cff602",
   "metadata": {},
   "outputs": [],
   "source": [
    "from autoposemapper.create_project.add_newvideos import add_new_videos"
   ]
  },
  {
   "cell_type": "code",
   "execution_count": null,
   "id": "490a6853-8d55-42e0-a27f-c4966beee41c",
   "metadata": {},
   "outputs": [],
   "source": [
    "project_path = '/the_path_to_project_folder/'"
   ]
  },
  {
   "cell_type": "code",
   "execution_count": null,
   "id": "1bcc7df2-3353-49e9-94a2-4f51445523c9",
   "metadata": {},
   "outputs": [],
   "source": [
    "add_new_videos(project_path, '/path_to_the_videos/', \n",
    "               copy_videos=False, sleapordlc='sleap')"
   ]
  }
 ],
 "metadata": {
  "kernelspec": {
   "display_name": "Python 3 (ipykernel)",
   "language": "python",
   "name": "python3"
  },
  "language_info": {
   "codemirror_mode": {
    "name": "ipython",
    "version": 3
   },
   "file_extension": ".py",
   "mimetype": "text/x-python",
   "name": "python",
   "nbconvert_exporter": "python",
   "pygments_lexer": "ipython3",
   "version": "3.8.13"
  }
 },
 "nbformat": 4,
 "nbformat_minor": 5
}
