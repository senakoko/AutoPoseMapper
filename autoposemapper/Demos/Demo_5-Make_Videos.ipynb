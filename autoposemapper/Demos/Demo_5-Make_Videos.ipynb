{
 "cells": [
  {
   "cell_type": "markdown",
   "id": "4195ae8c-3413-4059-b806-ffb7c2ce1605",
   "metadata": {},
   "source": [
    "# Make Videos of Tracked Points "
   ]
  },
  {
   "cell_type": "markdown",
   "id": "84397953-1723-4f70-a6d1-17ad76fdfa05",
   "metadata": {},
   "source": [
    "This notebook is to make videos with tracked points from either SLEAP, the autoencoder or the ID Tracker."
   ]
  },
  {
   "cell_type": "code",
   "execution_count": null,
   "id": "fc179100-4c15-4f5a-8d6b-d05dae67942f",
   "metadata": {},
   "outputs": [],
   "source": [
    "import sys\n",
    "\n",
    "sys.path.append('/path_to_where_the_package_is_downloaded_to/AutoPoseMapper/')"
   ]
  },
  {
   "cell_type": "code",
   "execution_count": null,
   "id": "c8569646-1798-49fb-bb05-83d4241baba1",
   "metadata": {},
   "outputs": [],
   "source": [
    "from autoposemapper.id_tracker_tools import IdTracker\n",
    "from autoposemapper.auxiliary_tools.make_videos import MakeVideos\n",
    "from autoposemapper.auxiliary_tools.downSampleVideos import down_sample_video"
   ]
  },
  {
   "cell_type": "code",
   "execution_count": null,
   "id": "fe812341-46ee-4d74-86ef-226aa035648d",
   "metadata": {},
   "outputs": [],
   "source": [
    "project_path = '/the_path_to_project_folder/'"
   ]
  },
  {
   "cell_type": "markdown",
   "id": "56452a7e-eb60-495b-8c57-cb047da308b2",
   "metadata": {},
   "source": [
    "### Make Video with SLEAP Points"
   ]
  },
  {
   "cell_type": "code",
   "execution_count": null,
   "id": "9c0f1dfe-5df3-40dd-b707-d1a726843f83",
   "metadata": {},
   "outputs": [],
   "source": [
    "mvid = MakeVideos(project_path)"
   ]
  },
  {
   "cell_type": "code",
   "execution_count": null,
   "id": "22a1f782-4aba-4320-8584-da3c6ea01a5e",
   "metadata": {},
   "outputs": [],
   "source": [
    "mvid.make_tracked_videos(video_loc='/Users/senaagezo/Downloads/AutoTest-Sena-2022-04-17/videos/',\n",
    "                        skeleton_path='/Users/senaagezo/Downloads/AutoTest-Sena-2022-04-17/skeleton_unfiltered.yaml',\n",
    "                         subset=True, start_time=0, end_time=(1,0),post_name='CNN', tracker='CNN')"
   ]
  },
  {
   "cell_type": "markdown",
   "id": "baee96a4-534c-4948-a35e-89cd342de109",
   "metadata": {},
   "source": [
    "### Make Video with Autoencoder Points"
   ]
  },
  {
   "cell_type": "code",
   "execution_count": null,
   "id": "efc60bf2-1217-4958-b590-969c7bf59823",
   "metadata": {},
   "outputs": [],
   "source": [
    "mvid.make_tracked_videos(video_loc='/Users/senaagezo/Downloads/AutoTest-Sena-2022-04-17/videos/',\n",
    "                        skeleton_path='/Users/senaagezo/Downloads/AutoTest-Sena-2022-04-17/skeleton.yaml',\n",
    "                         subset=True, start_time=0, end_time=(1,0),post_name='CNN_SAE', tracker='CNN_SAE')"
   ]
  },
  {
   "cell_type": "markdown",
   "id": "dff72e2b-888d-43c1-87d0-27205e73dd99",
   "metadata": {},
   "source": [
    "### Make Video with ID Tracker Points"
   ]
  },
  {
   "cell_type": "code",
   "execution_count": null,
   "id": "ec68d02c-a25a-421b-8893-1623fba27730",
   "metadata": {},
   "outputs": [],
   "source": [
    "idtracker = IdTracker(project_path)"
   ]
  },
  {
   "cell_type": "code",
   "execution_count": null,
   "id": "43cad059-6832-4881-8482-0ece7418f9ce",
   "metadata": {},
   "outputs": [],
   "source": [
    "idtracker.make_id_tracker_movies(video_loc='/Users/senaagezo/Downloads/AutoTest-Sena-2022-04-17/videos/', subset=True,\n",
    "                          start_time=(0), end_time=(1,0), dot_size=10, tracker='_idtraj')"
   ]
  },
  {
   "cell_type": "markdown",
   "id": "08468ad9-8dcf-4868-8b7b-65f678681fbb",
   "metadata": {},
   "source": [
    "### Make Video with Both Autoencoder and ID Tracker Points"
   ]
  },
  {
   "cell_type": "code",
   "execution_count": null,
   "id": "3cc0e5f9-b5e4-48e9-91c6-0784a34a8565",
   "metadata": {
    "tags": []
   },
   "outputs": [],
   "source": [
    "mvid.make_tracked_videos_w_idt(video_loc='/Users/senaagezo/Downloads/AutoTest-Sena-2022-04-17/videos/',\n",
    "                               skeleton_path='/Users/senaagezo/Downloads/AutoTest-Sena-2022-04-17/skeleton.yaml',\n",
    "                               subset=True, start_time=0, end_time=(1,0),post_name='CNN_SAE_IDT', tracker='CNN_SAE')"
   ]
  },
  {
   "cell_type": "markdown",
   "id": "da417eab-4049-4eb0-9b77-cb4ba2f984ce",
   "metadata": {},
   "source": [
    "### Down-sample videos if you wanted to do so before Tracking"
   ]
  },
  {
   "cell_type": "code",
   "execution_count": null,
   "id": "92ea0176-500c-493c-a45f-c51c46ac7acf",
   "metadata": {
    "tags": []
   },
   "outputs": [],
   "source": [
    "down_sample_video(\n",
    "    '/Users/senaagezo/Downloads/AutoTest-Sena-2022-04-17/videos/Cohab1_pre_20211025_124326434/Cohab1_pre_20211025_124326434.mp4',\n",
    "    start_time=0, end_time=(1,0), scale_factor=0.5, subset=True)"
   ]
  },
  {
   "cell_type": "code",
   "execution_count": null,
   "id": "d9437d13-a1f8-4699-b279-d3f5088c3450",
   "metadata": {},
   "outputs": [],
   "source": []
  }
 ],
 "metadata": {
  "kernelspec": {
   "display_name": "Python 3 (ipykernel)",
   "language": "python",
   "name": "python3"
  },
  "language_info": {
   "codemirror_mode": {
    "name": "ipython",
    "version": 3
   },
   "file_extension": ".py",
   "mimetype": "text/x-python",
   "name": "python",
   "nbconvert_exporter": "python",
   "pygments_lexer": "ipython3",
   "version": "3.8.13"
  }
 },
 "nbformat": 4,
 "nbformat_minor": 5
}
