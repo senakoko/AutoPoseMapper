{
 "cells": [
  {
   "cell_type": "markdown",
   "id": "40ee9d42-5f7f-42be-a078-1420d71f4197",
   "metadata": {},
   "source": [
    "# DEMO TO USE ID Tracker.AI FUNCTIONS"
   ]
  },
  {
   "cell_type": "markdown",
   "id": "ee9c4b2b-e06b-4e3e-ae83-a1fd2bc90792",
   "metadata": {},
   "source": [
    "This notebook is to use ID tracker functions. It assumes you created the trajectories.npy files with ID Tracker and copied them to the respective folders"
   ]
  },
  {
   "cell_type": "code",
   "execution_count": null,
   "id": "fc179100-4c15-4f5a-8d6b-d05dae67942f",
   "metadata": {},
   "outputs": [],
   "source": [
    "import sys\n",
    "\n",
    "sys.path.append('/path_to_where_the_package_is_downloaded_to/AutoPoseMapper/')"
   ]
  },
  {
   "cell_type": "code",
   "execution_count": null,
   "id": "c8569646-1798-49fb-bb05-83d4241baba1",
   "metadata": {},
   "outputs": [],
   "source": [
    "from autoposemapper.id_tracker_tools import IdTracker\n",
    "from autoposemapper.auxiliary_tools import utils as AX_utils"
   ]
  },
  {
   "cell_type": "code",
   "execution_count": null,
   "id": "fe812341-46ee-4d74-86ef-226aa035648d",
   "metadata": {},
   "outputs": [],
   "source": [
    "project_path = '/the_path_to_project_folder/'"
   ]
  },
  {
   "cell_type": "code",
   "execution_count": null,
   "id": "ec68d02c-a25a-421b-8893-1623fba27730",
   "metadata": {},
   "outputs": [],
   "source": [
    "idtracker = IdTracker(project_path)"
   ]
  },
  {
   "cell_type": "markdown",
   "id": "28542953-f304-4470-bc6e-526a75529cbf",
   "metadata": {},
   "source": [
    "### Make h5 files from the numpy trajectories"
   ]
  },
  {
   "cell_type": "code",
   "execution_count": null,
   "id": "9d828c2f-3ad9-4a8b-996c-7608b9a0a8e0",
   "metadata": {},
   "outputs": [],
   "source": [
    "idtracker.make_h5s_id_trajectories()"
   ]
  },
  {
   "cell_type": "markdown",
   "id": "f4c43d9b-5078-40fd-8817-c73cf03a3cf2",
   "metadata": {},
   "source": [
    "### Check h5 files"
   ]
  },
  {
   "cell_type": "code",
   "execution_count": null,
   "id": "312d2f6e-6523-4128-8fcc-c968ad416dbe",
   "metadata": {},
   "outputs": [],
   "source": [
    "file_path = '/Path_to_ID_Tracker_H5_file/Cohab1_pre_20211025_124326434_idtraj.h5'"
   ]
  },
  {
   "cell_type": "code",
   "execution_count": null,
   "id": "518bc11f-ca78-4d78-8f5c-9c9e223e381d",
   "metadata": {
    "tags": []
   },
   "outputs": [],
   "source": [
    "h5 = AX_utils.check_pandas_h5(file_path)\n",
    "h5"
   ]
  },
  {
   "cell_type": "markdown",
   "id": "de6ead36-49fe-432a-a4c5-5017e4b71df0",
   "metadata": {},
   "source": [
    "### Create new centroid based on IDTracker and Autoencoder"
   ]
  },
  {
   "cell_type": "markdown",
   "id": "5ee438e5-b69d-45a2-8d06-c2cdcaaf9249",
   "metadata": {},
   "source": [
    "##### Path to the h5 files created by the autoencoder. You want the parent path"
   ]
  },
  {
   "cell_type": "code",
   "execution_count": null,
   "id": "83fc8695-f169-4088-9b40-d45ed18dc655",
   "metadata": {},
   "outputs": [],
   "source": [
    "auto_source_path = '/Users/senaagezo/Downloads/AutoTest-Sena-2022-04-17/autoencoder_data/'"
   ]
  },
  {
   "cell_type": "code",
   "execution_count": null,
   "id": "503e0956-8b3c-4757-b77e-07da501c4a3d",
   "metadata": {},
   "outputs": [],
   "source": [
    "idtracker.create_csi_centroid(auto_source_path=auto_source_path)"
   ]
  },
  {
   "cell_type": "markdown",
   "id": "651593f1-498e-4a5b-9ba7-b73601543c23",
   "metadata": {},
   "source": [
    "### Swap tracked points based on labels"
   ]
  },
  {
   "cell_type": "code",
   "execution_count": null,
   "id": "1ce6a4b5-c346-4505-ad22-49cc6fa4de0a",
   "metadata": {},
   "outputs": [],
   "source": [
    "idtracker.create_labels_based_on_csi(auto_source_path=auto_source_path)"
   ]
  },
  {
   "cell_type": "code",
   "execution_count": null,
   "id": "6dcc1252-6dd7-407a-aedf-80a2376a88fa",
   "metadata": {},
   "outputs": [],
   "source": [
    "idtracker.swap_tracks_based_on_labels(auto_source_path=auto_source_path)"
   ]
  },
  {
   "cell_type": "code",
   "execution_count": null,
   "id": "7a4ef134-bd3d-4198-b87c-f8cb7ec73652",
   "metadata": {},
   "outputs": [],
   "source": [
    "file_path2 = '/Users/senaagezo/Downloads/AutoTest-Sena-2022-04-17/autoencoder_data/Cohab1_pre_20211025_124326434/Cohab1_pre_20211025_124326434_CSI_filtered.h5'"
   ]
  },
  {
   "cell_type": "code",
   "execution_count": null,
   "id": "4b095e2e-8c88-4920-8aa4-703d2d89846a",
   "metadata": {
    "tags": []
   },
   "outputs": [],
   "source": [
    "h5 = AX_utils.check_pandas_h5(file_path2)\n",
    "h5"
   ]
  },
  {
   "cell_type": "markdown",
   "id": "49f679f8-e14d-46dc-b7fb-f0735e3601f2",
   "metadata": {},
   "source": [
    "### Fix Bad Areas in H5 files"
   ]
  },
  {
   "cell_type": "code",
   "execution_count": null,
   "id": "79c26bd7-5098-47ad-9e3a-63eb988aee7d",
   "metadata": {},
   "outputs": [],
   "source": [
    "idtracker.fix_bad_areas_h5()"
   ]
  },
  {
   "cell_type": "markdown",
   "id": "c20ec9c5-e7cf-4284-a63a-bb2eba832864",
   "metadata": {},
   "source": [
    "### Create Individual Animals from Multi-Animal Dataset"
   ]
  },
  {
   "cell_type": "code",
   "execution_count": null,
   "id": "cc411c9a-b6b7-42cf-b9c5-c2417345f05b",
   "metadata": {},
   "outputs": [],
   "source": [
    "idtracker.create_ind_from_multi(encoder_type='CSI_Area')"
   ]
  },
  {
   "cell_type": "code",
   "execution_count": null,
   "id": "d9437d13-a1f8-4699-b279-d3f5088c3450",
   "metadata": {},
   "outputs": [],
   "source": []
  }
 ],
 "metadata": {
  "kernelspec": {
   "display_name": "Python 3 (ipykernel)",
   "language": "python",
   "name": "python3"
  },
  "language_info": {
   "codemirror_mode": {
    "name": "ipython",
    "version": 3
   },
   "file_extension": ".py",
   "mimetype": "text/x-python",
   "name": "python",
   "nbconvert_exporter": "python",
   "pygments_lexer": "ipython3",
   "version": "3.8.13"
  }
 },
 "nbformat": 4,
 "nbformat_minor": 5
}
