{
 "cells": [
  {
   "cell_type": "markdown",
   "id": "formal-albuquerque",
   "metadata": {},
   "source": [
    "# Create New Project"
   ]
  },
  {
   "cell_type": "markdown",
   "id": "french-tobacco",
   "metadata": {},
   "source": [
    "Follow the instructions here to create the project folder.\n",
    "It is easier to have everything centralized under one project folder."
   ]
  },
  {
   "cell_type": "code",
   "execution_count": null,
   "id": "about-riding",
   "metadata": {},
   "outputs": [],
   "source": [
    "import sys\n",
    "\n",
    "### Provide the path to the code directory\n",
    "sys.path.append('/path_to_where_the_package_is_downloaded_to/AutoPoseMapper/')"
   ]
  },
  {
   "cell_type": "code",
   "execution_count": null,
   "id": "loaded-ghana",
   "metadata": {},
   "outputs": [],
   "source": [
    "from autoposemapper.create_project.new_project import create_new_project"
   ]
  },
  {
   "cell_type": "code",
   "execution_count": null,
   "id": "expressed-people",
   "metadata": {},
   "outputs": [],
   "source": [
    "project_path = create_new_project(project='AutoTest', experimenter='Sena', \n",
    "                                  videos=['/path_to_the_video_file/Cohab1_pre_20211025_124326434.mp4'], \n",
    "                                  working_directory='/path_to_the_working_directory/', \n",
    "                                  video_type='.mp4', \n",
    "                                  sleap_or_dlc_or_conv='dlc',\n",
    "                                  copy_videos=False)"
   ]
  },
  {
   "cell_type": "code",
   "execution_count": null,
   "id": "outdoor-remains",
   "metadata": {},
   "outputs": [],
   "source": [
    "project_path"
   ]
  },
  {
   "cell_type": "markdown",
   "id": "athletic-denmark",
   "metadata": {},
   "source": [
    "## Need to do this if you are working with the Tracked Points"
   ]
  },
  {
   "cell_type": "markdown",
   "id": "entitled-stuff",
   "metadata": {},
   "source": [
    "Copy all the skeleton files under the skeleton folder to your new project directory. Put them under a folder titled  **Skeletons**. \n",
    "Also you will need to modify the skeleton based on how you want the points plotted."
   ]
  },
  {
   "cell_type": "markdown",
   "id": "fallen-thursday",
   "metadata": {},
   "source": [
    "## Notes"
   ]
  },
  {
   "cell_type": "markdown",
   "id": "angry-outline",
   "metadata": {},
   "source": [
    "If you are running the code on Windows, and you get an error due to **mklink**, which is used to create a symbolic link. First delete the project and create a new one. However, set **copy_viideos=True**."
   ]
  },
  {
   "cell_type": "code",
   "execution_count": null,
   "id": "former-commander",
   "metadata": {},
   "outputs": [],
   "source": []
  }
 ],
 "metadata": {
  "kernelspec": {
   "display_name": "Python 3",
   "language": "python",
   "name": "python3"
  },
  "language_info": {
   "codemirror_mode": {
    "name": "ipython",
    "version": 3
   },
   "file_extension": ".py",
   "mimetype": "text/x-python",
   "name": "python",
   "nbconvert_exporter": "python",
   "pygments_lexer": "ipython3",
   "version": "3.7.9"
  }
 },
 "nbformat": 4,
 "nbformat_minor": 5
}
