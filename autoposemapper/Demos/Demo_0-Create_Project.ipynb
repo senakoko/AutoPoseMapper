{
 "cells": [
  {
   "cell_type": "markdown",
   "id": "5eb48c51-df85-4085-b03b-c801c721bdcc",
   "metadata": {},
   "source": [
    "# Create New Project"
   ]
  },
  {
   "cell_type": "markdown",
   "id": "1f820465-c6d7-4d21-ac50-b749e56fd7ae",
   "metadata": {},
   "source": [
    "Follow the instructions here to create the project folder.\n",
    "It is easier to have everything centralized under one project folder."
   ]
  },
  {
   "cell_type": "code",
   "execution_count": null,
   "id": "1b81f908-f7d0-477d-8c0b-b9627e3cee35",
   "metadata": {},
   "outputs": [],
   "source": [
    "import sys\n",
    "\n",
    "### Provide the path to the code directory\n",
    "sys.path.append('/path_to_where_the_package_is_downloaded_to/AutoPoseMapper/')"
   ]
  },
  {
   "cell_type": "code",
   "execution_count": null,
   "id": "ce5d32ef-6fc2-40e2-aa54-d08440cff602",
   "metadata": {},
   "outputs": [],
   "source": [
    "from autoposemapper.create_project.new_project import create_new_project"
   ]
  },
  {
   "cell_type": "code",
   "execution_count": null,
   "id": "490a6853-8d55-42e0-a27f-c4966beee41c",
   "metadata": {},
   "outputs": [],
   "source": [
    "project_path = create_new_project(project='AutoTest', experimenter='Sena', \n",
    "                                  videos=['/path_to_the_video_file/Cohab1_pre_20211025_124326434.mp4'], \n",
    "                                  working_directory='/Users/senaagezo/Downloads/', \n",
    "                                  video_type='.mp4', \n",
    "                                  sleapordlc='conv',\n",
    "                                  copy_videos=False)"
   ]
  },
  {
   "cell_type": "code",
   "execution_count": null,
   "id": "1bcc7df2-3353-49e9-94a2-4f51445523c9",
   "metadata": {},
   "outputs": [],
   "source": [
    "project_path"
   ]
  },
  {
   "cell_type": "markdown",
   "id": "976062a7-1976-45fb-95ec-6c743423f4cb",
   "metadata": {},
   "source": [
    "## Need to do this if you are working with the Tracked Points"
   ]
  },
  {
   "cell_type": "markdown",
   "id": "139cbf27-ed9f-4baf-80bc-513ab9df8846",
   "metadata": {},
   "source": [
    "Copy all the skeleton files under the skeleton folder to your new project directory. Put them under a folder titled  **Skeleton**. \n",
    "Also you will need to modify the skeleton based on how you want the points plotted."
   ]
  },
  {
   "cell_type": "markdown",
   "id": "6fa80e9e-8827-4b33-95af-170fda611354",
   "metadata": {},
   "source": [
    "## Notes"
   ]
  },
  {
   "cell_type": "markdown",
   "id": "f1131a05-0c27-422a-9518-99a3bde4866f",
   "metadata": {},
   "source": [
    "If you are running the code on Windows, and you get an error due to **mklink**, which is used to create a symbolic link. First delete the project and create a new one. However, set **copy_viideos=True**."
   ]
  },
  {
   "cell_type": "code",
   "execution_count": null,
   "id": "e0f8b4b6-cf51-453b-a8e4-50677f230d8b",
   "metadata": {},
   "outputs": [],
   "source": []
  }
 ],
 "metadata": {
  "kernelspec": {
   "display_name": "Python 3 (ipykernel)",
   "language": "python",
   "name": "python3"
  },
  "language_info": {
   "codemirror_mode": {
    "name": "ipython",
    "version": 3
   },
   "file_extension": ".py",
   "mimetype": "text/x-python",
   "name": "python",
   "nbconvert_exporter": "python",
   "pygments_lexer": "ipython3",
   "version": "3.8.13"
  }
 },
 "nbformat": 4,
 "nbformat_minor": 5
}
