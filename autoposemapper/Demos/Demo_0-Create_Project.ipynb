{
 "cells": [
  {
   "cell_type": "markdown",
   "id": "1f820465-c6d7-4d21-ac50-b749e56fd7ae",
   "metadata": {},
   "source": [
    "This notebook is to create the project folder.  \n",
    "It is easier to have everything centralized under one project folder."
   ]
  },
  {
   "cell_type": "code",
   "execution_count": 1,
   "id": "1b81f908-f7d0-477d-8c0b-b9627e3cee35",
   "metadata": {},
   "outputs": [],
   "source": [
    "import sys\n",
    "\n",
    "### Provide the path to the code directory\n",
    "sys.path.append('/Users/senaagezo/PycharmProjects/AutoPoseMapper/')"
   ]
  },
  {
   "cell_type": "code",
   "execution_count": 3,
   "id": "ce5d32ef-6fc2-40e2-aa54-d08440cff602",
   "metadata": {},
   "outputs": [],
   "source": [
    "from autoposemapper.create_project.new_project import create_new_project"
   ]
  },
  {
   "cell_type": "code",
   "execution_count": 4,
   "id": "490a6853-8d55-42e0-a27f-c4966beee41c",
   "metadata": {},
   "outputs": [
    {
     "name": "stdout",
     "output_type": "stream",
     "text": [
      "Created /Users/senaagezo/Downloads/AutoTest-Sena-2022-04-22/videos\n",
      "Created /Users/senaagezo/Downloads/AutoTest-Sena-2022-04-22/sleap_data\n",
      "Created /Users/senaagezo/Downloads/AutoTest-Sena-2022-04-22/dlc_data\n",
      "Created /Users/senaagezo/Downloads/AutoTest-Sena-2022-04-22/autoencoder_data\n",
      "Created /Users/senaagezo/Downloads/AutoTest-Sena-2022-04-22/id_tracker_data\n",
      "Created /Users/senaagezo/Downloads/AutoTest-Sena-2022-04-22/bash_files\n",
      "Created /Users/senaagezo/Downloads/AutoTest-Sena-2022-04-22/conv_autoencoder_data\n",
      "Attempting to create a symbolic link of the video ...\n",
      "Created the symlink of /Users/senaagezo/Downloads/Cohab1_pre_20211025_124326434.mp4 to /Users/senaagezo/Downloads/AutoTest-Sena-2022-04-22/videos/Cohab1_pre_20211025_124326434/Cohab1_pre_20211025_124326434.mp4\n",
      "Attempting to create a symbolic link of the video ...\n",
      "Created the symlink of /Users/senaagezo/Downloads/AutoTest-Sena-2022-04-22/videos/Cohab1_pre_20211025_124326434/Cohab1_pre_20211025_124326434.mp4 to /Users/senaagezo/Downloads/AutoTest-Sena-2022-04-22/conv_autoencoder_data/Cohab1_pre_20211025_124326434/Cohab1_pre_20211025_124326434.mp4\n",
      "/Users/senaagezo/Downloads/AutoTest-Sena-2022-04-22/videos/Cohab1_pre_20211025_124326434/Cohab1_pre_20211025_124326434.mp4\n",
      "Generated \"/Users/senaagezo/Downloads/AutoTest-Sena-2022-04-22/config.yaml\"\n"
     ]
    }
   ],
   "source": [
    "project_path = create_new_project(project='AutoTest', experimenter='Sena', \n",
    "                                  videos=['/Users/senaagezo/Downloads/Cohab1_pre_20211025_124326434.mp4'], \n",
    "                                  working_directory='/Users/senaagezo/Downloads/', \n",
    "                                  video_type='.mp4', \n",
    "                                  sleapordlc='conv',\n",
    "                                  copy_videos=False)"
   ]
  },
  {
   "cell_type": "code",
   "execution_count": 5,
   "id": "1bcc7df2-3353-49e9-94a2-4f51445523c9",
   "metadata": {},
   "outputs": [
    {
     "data": {
      "text/plain": [
       "PosixPath('/Users/senaagezo/Downloads/AutoTest-Sena-2022-04-22')"
      ]
     },
     "execution_count": 5,
     "metadata": {},
     "output_type": "execute_result"
    }
   ],
   "source": [
    "project_path"
   ]
  },
  {
   "cell_type": "code",
   "execution_count": null,
   "id": "8f4da059-7f4e-45d2-8392-b1788644bf4d",
   "metadata": {},
   "outputs": [],
   "source": []
  }
 ],
 "metadata": {
  "kernelspec": {
   "display_name": "Python 3 (ipykernel)",
   "language": "python",
   "name": "python3"
  },
  "language_info": {
   "codemirror_mode": {
    "name": "ipython",
    "version": 3
   },
   "file_extension": ".py",
   "mimetype": "text/x-python",
   "name": "python",
   "nbconvert_exporter": "python",
   "pygments_lexer": "ipython3",
   "version": "3.7.13"
  }
 },
 "nbformat": 4,
 "nbformat_minor": 5
}
