{
 "cells": [
  {
   "cell_type": "markdown",
   "id": "ee2b2e6c-db87-4a78-b7d6-68a8e2be646d",
   "metadata": {},
   "source": [
    "## DEMO TO ADD THE BODY CENTER"
   ]
  },
  {
   "cell_type": "code",
   "execution_count": null,
   "id": "07bfc712-a921-46dd-a799-7c3bba2d5bf9",
   "metadata": {},
   "outputs": [],
   "source": [
    "import sys\n",
    "import glob\n",
    "import re\n",
    "\n",
    "sys.path.append('/path_to_where_the_package_is_downloaded_to/AutoPoseMapper/')"
   ]
  },
  {
   "cell_type": "code",
   "execution_count": null,
   "id": "0d06a907-2d73-406d-a142-99ffda951661",
   "metadata": {},
   "outputs": [],
   "source": [
    "from autoposemapper.auxiliary_tools.addBodyCenter import add_body_center"
   ]
  },
  {
   "cell_type": "code",
   "execution_count": null,
   "id": "6105c121-99c4-4b69-8a9d-8b035661cc51",
   "metadata": {},
   "outputs": [],
   "source": [
    "project_path = '/the_path_to_project_folder/'"
   ]
  },
  {
   "cell_type": "code",
   "execution_count": null,
   "id": "c5f38f77-3025-4c7d-b829-c13c15a8c050",
   "metadata": {},
   "outputs": [],
   "source": [
    "h5_files = sorted(glob.glob(f'{project_path}**/*ANT_filtered.h5', recursive=True))\n",
    "h5_files"
   ]
  },
  {
   "cell_type": "code",
   "execution_count": null,
   "id": "32034047-d264-423e-ba31-e24cd69459b5",
   "metadata": {},
   "outputs": [],
   "source": [
    "for file in h5_files:\n",
    "    h5 = add_body_center(file)"
   ]
  }
 ],
 "metadata": {
  "kernelspec": {
   "display_name": "Python 3 (ipykernel)",
   "language": "python",
   "name": "python3"
  },
  "language_info": {
   "codemirror_mode": {
    "name": "ipython",
    "version": 3
   },
   "file_extension": ".py",
   "mimetype": "text/x-python",
   "name": "python",
   "nbconvert_exporter": "python",
   "pygments_lexer": "ipython3",
   "version": "3.8.13"
  }
 },
 "nbformat": 4,
 "nbformat_minor": 5
}
