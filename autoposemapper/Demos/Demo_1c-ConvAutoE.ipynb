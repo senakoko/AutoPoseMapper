{
 "cells": [
  {
   "cell_type": "markdown",
   "id": "6c947361-cf3b-444f-92aa-a2fa09c44917",
   "metadata": {},
   "source": [
    "# DEMO TO USE CONVOLUTIONAL AUTOENCODER FUNCTIONS"
   ]
  },
  {
   "cell_type": "markdown",
   "id": "0e4c22d4-d0bf-40d1-8675-c935a3ba3227",
   "metadata": {},
   "source": [
    "Follow the instructions here to use the convolutional autoencoder tools. "
   ]
  },
  {
   "cell_type": "code",
   "execution_count": null,
   "id": "e2790926-9df4-444f-9a29-9ff6045a3438",
   "metadata": {},
   "outputs": [],
   "source": [
    "import sys\n",
    "\n",
    "### Provide the path to the code directory\n",
    "sys.path.append('/Users/senaagezo/PycharmProjects/AutoPoseMapper/')"
   ]
  },
  {
   "cell_type": "code",
   "execution_count": null,
   "id": "d325d711-1bf6-4cb3-bfdd-0d7a32cd2d5c",
   "metadata": {},
   "outputs": [],
   "source": [
    "import glob\n",
    "from autoposemapper.convolutional_autoencoder.frame_tools import FrameTools\n",
    "from autoposemapper.convolutional_autoencoder.conv_autoencoder_train import AutoTrain\n",
    "from autoposemapper.convolutional_autoencoder import utils"
   ]
  },
  {
   "cell_type": "code",
   "execution_count": null,
   "id": "dec4d864-6237-4ab2-9f56-1ce5a8cbe5d5",
   "metadata": {},
   "outputs": [],
   "source": [
    "project_path = '/Users/senaagezo/Downloads/AutoTest-Sena-2022-04-22/'"
   ]
  },
  {
   "cell_type": "code",
   "execution_count": null,
   "id": "d4917fbc-5b24-4126-b72f-0919a85c1cee",
   "metadata": {},
   "outputs": [],
   "source": [
    "frame_tools = FrameTools(project_path)"
   ]
  },
  {
   "cell_type": "markdown",
   "id": "3ab60aa4-d301-4780-853d-958579abbc09",
   "metadata": {},
   "source": [
    "### Extract frames to train Convolutional Autoencoder"
   ]
  },
  {
   "cell_type": "code",
   "execution_count": null,
   "id": "5d7a6fec-a4a2-4c57-9922-47d24858fd01",
   "metadata": {},
   "outputs": [],
   "source": [
    "# frame_tools.extract_frames_conv(numframes2pick=500, userfeedback=False, algo='uniform', name_prefix='extracted', opencv=True)"
   ]
  },
  {
   "cell_type": "markdown",
   "id": "d8d695bd-d8b3-4ccc-9ca4-38ca57de251e",
   "metadata": {},
   "source": [
    "## Create Training and Test Datasets"
   ]
  },
  {
   "cell_type": "code",
   "execution_count": null,
   "id": "31e0e390-f1ce-4f50-bbab-10e9305996d4",
   "metadata": {},
   "outputs": [],
   "source": [
    "# frame_tools.create_train_test_datasets(train_fraction=0.8)"
   ]
  },
  {
   "cell_type": "markdown",
   "id": "f3c53f0d-62ce-4340-b728-b27d9ea3e0b2",
   "metadata": {},
   "source": [
    "## Train the Network"
   ]
  },
  {
   "cell_type": "markdown",
   "id": "7cf93a29-91ba-43c6-84f7-b72251279faa",
   "metadata": {},
   "source": [
    "Initialize the convolutional autoencoder "
   ]
  },
  {
   "cell_type": "code",
   "execution_count": null,
   "id": "0ee62bca-8114-4b2a-8680-7c4a10ed02ef",
   "metadata": {},
   "outputs": [],
   "source": [
    "autotrain = AutoTrain(project_path)"
   ]
  },
  {
   "cell_type": "markdown",
   "id": "881f4f6a-0df6-4238-833c-3bd2b48beacb",
   "metadata": {},
   "source": [
    "Train the convolutional autoencoder network"
   ]
  },
  {
   "cell_type": "code",
   "execution_count": null,
   "id": "1e850bd4-f030-406d-88bb-0f9eef2fa789",
   "metadata": {},
   "outputs": [],
   "source": [
    "# history, network = autotrain.auto_train_initial(num_feat=128, encoder_type='VAE', batch_size=64,\n",
    "#                                                 coding_size=16, epochs=5)"
   ]
  },
  {
   "cell_type": "markdown",
   "id": "9a571fc5-748c-48d1-90fc-fb9eaaf8aec5",
   "metadata": {},
   "source": [
    "Retrain the convolutional autoencoder network if needed"
   ]
  },
  {
   "cell_type": "code",
   "execution_count": null,
   "id": "2f17c028-5956-4864-8df2-3eaed81cdd1a",
   "metadata": {},
   "outputs": [],
   "source": [
    "# history, network = autotrain.auto_retrain(num_feat=128, encoder_type='VAE', batch_size=64,\n",
    "#                                                 coding_size=16, epochs=2)"
   ]
  },
  {
   "cell_type": "markdown",
   "id": "951d2e3c-b1f5-4e0c-a3c0-13befd80e815",
   "metadata": {},
   "source": [
    "Plot the loss history"
   ]
  },
  {
   "cell_type": "code",
   "execution_count": null,
   "id": "34dfc038-3f30-4948-9185-4c40a55e51f8",
   "metadata": {
    "tags": []
   },
   "outputs": [],
   "source": [
    "# utils.model_loss_plots(history)"
   ]
  },
  {
   "cell_type": "markdown",
   "id": "8bbff9db-c769-430c-8273-61a4940516c5",
   "metadata": {},
   "source": [
    "Show the reconstructions from actual image to check the performance of the network"
   ]
  },
  {
   "cell_type": "code",
   "execution_count": null,
   "id": "51df7512-7273-44fc-9eb2-f8906f79c377",
   "metadata": {
    "tags": []
   },
   "outputs": [],
   "source": [
    "# utils.show_reconstruction(network, project_path, batch_size=64)"
   ]
  },
  {
   "cell_type": "markdown",
   "id": "bb0db836-482f-4cc1-96dc-2a68d0e332bb",
   "metadata": {},
   "source": [
    "Generate random (fake) images based on the trained network. Check how similar they are\n",
    "to actual images"
   ]
  },
  {
   "cell_type": "code",
   "execution_count": null,
   "id": "fcdaf1f7-1de7-4fe4-87b8-a0cd62b4be7d",
   "metadata": {},
   "outputs": [],
   "source": [
    "# utils.generate_random_animal_w_vae(network, coding_size=16)"
   ]
  },
  {
   "cell_type": "markdown",
   "id": "1d7bae35-b2c7-48eb-a5d6-ae439cd9b822",
   "metadata": {},
   "source": [
    "Reduce the dimensions of the frames from the videos"
   ]
  },
  {
   "cell_type": "code",
   "execution_count": null,
   "id": "8c8ce32a-8f63-4ae0-a973-5f295776fbf0",
   "metadata": {
    "tags": []
   },
   "outputs": [],
   "source": [
    "# autotrain.reduce_dimensions(encoder_type='VAE', coding_size=16, batch_size=64, scaling_factor=128. * 128.)"
   ]
  },
  {
   "cell_type": "code",
   "execution_count": null,
   "id": "8fe9db45-be3a-4000-a800-5b5e8f6dc206",
   "metadata": {},
   "outputs": [],
   "source": []
  }
 ],
 "metadata": {
  "kernelspec": {
   "display_name": "Python 3 (ipykernel)",
   "language": "python",
   "name": "python3"
  },
  "language_info": {
   "codemirror_mode": {
    "name": "ipython",
    "version": 3
   },
   "file_extension": ".py",
   "mimetype": "text/x-python",
   "name": "python",
   "nbconvert_exporter": "python",
   "pygments_lexer": "ipython3",
   "version": "3.8.13"
  }
 },
 "nbformat": 4,
 "nbformat_minor": 5
}
