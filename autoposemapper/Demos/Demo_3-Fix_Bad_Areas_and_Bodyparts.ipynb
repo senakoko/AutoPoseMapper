{
 "cells": [
  {
   "cell_type": "markdown",
   "id": "68b5a9b5-0e0f-4e94-87c5-2d0f47940fe1",
   "metadata": {},
   "source": [
    "## DEMO TO FIX BAD AREAS and BODY PARTS IN TRACKED POINTS"
   ]
  },
  {
   "cell_type": "code",
   "execution_count": null,
   "id": "8d6190e5-d6b6-48df-9f6a-9d8b9f0eb176",
   "metadata": {},
   "outputs": [],
   "source": [
    "import sys\n",
    "import glob\n",
    "import re\n",
    "\n",
    "sys.path.append('/path_to_where_the_package_is_downloaded_to/AutoPoseMapper/')"
   ]
  },
  {
   "cell_type": "code",
   "execution_count": null,
   "id": "305c8735-bb02-4379-8dde-6c0a885c24c6",
   "metadata": {},
   "outputs": [],
   "source": [
    "from autoposemapper.auxiliary_tools.fixBadArea_Bodyparts import fix_bad_area_and_bodyparts"
   ]
  },
  {
   "cell_type": "code",
   "execution_count": null,
   "id": "3783b13b-9bd7-43d0-8242-23e47312deb0",
   "metadata": {},
   "outputs": [],
   "source": [
    "project_path = '/the_path_to_project_folder/'"
   ]
  },
  {
   "cell_type": "code",
   "execution_count": null,
   "id": "20ca20cc-3713-4f1d-a879-028992c5c819",
   "metadata": {},
   "outputs": [],
   "source": [
    "h5_files = sorted(glob.glob(f'{project_path}**/*CNN_SAE.h5', recursive=True))\n",
    "files = []\n",
    "for file in h5_files:\n",
    "    if re.search('labeled', file):\n",
    "        continue\n",
    "    files.append(file)\n",
    "files"
   ]
  },
  {
   "cell_type": "code",
   "execution_count": null,
   "id": "189ea8bb-fa94-4bd1-bf61-9c7b97d1a540",
   "metadata": {},
   "outputs": [],
   "source": [
    "for file in files:\n",
    "    fix_bad_area_and_bodyparts(file, mad_multiplier=2.75, save_csv=True)"
   ]
  }
 ],
 "metadata": {
  "kernelspec": {
   "display_name": "Python 3 (ipykernel)",
   "language": "python",
   "name": "python3"
  },
  "language_info": {
   "codemirror_mode": {
    "name": "ipython",
    "version": 3
   },
   "file_extension": ".py",
   "mimetype": "text/x-python",
   "name": "python",
   "nbconvert_exporter": "python",
   "pygments_lexer": "ipython3",
   "version": "3.8.13"
  }
 },
 "nbformat": 4,
 "nbformat_minor": 5
}
