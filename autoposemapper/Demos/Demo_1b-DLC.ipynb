{
 "cells": [
  {
   "cell_type": "markdown",
   "id": "3bb19310-8a2a-4ef8-8765-85d012862d66",
   "metadata": {},
   "source": [
    "# DEMO TO USE DeepLabCut HELPER FUNCTIONS"
   ]
  },
  {
   "cell_type": "markdown",
   "id": "bf8c3b78-7ff6-4251-8062-3b4d3bf9dd5a",
   "metadata": {},
   "source": [
    "Follow the instructions here to use the DLC helper tools.   \n",
    "It assumes you already have used DLC to train a network and labeled files"
   ]
  },
  {
   "cell_type": "code",
   "execution_count": null,
   "id": "23d9e70e-b0fe-48f9-93d2-f7eaf0f797d1",
   "metadata": {},
   "outputs": [],
   "source": [
    "import sys\n",
    "\n",
    "### Provide the path to the code directory\n",
    "sys.path.append('/path_to_where_the_package_is_downloaded_to/AutoPoseMapper/')"
   ]
  },
  {
   "cell_type": "code",
   "execution_count": null,
   "id": "4161f458-8194-40ed-8f08-0496bab105f6",
   "metadata": {},
   "outputs": [],
   "source": [
    "import glob\n",
    "from autoposemapper.deeplabcut_tools.dlc_tools import DlcHelper"
   ]
  },
  {
   "cell_type": "code",
   "execution_count": null,
   "id": "1a1c0f2d-ed3c-45d6-854a-7f9cf86655c8",
   "metadata": {},
   "outputs": [],
   "source": [
    "project_path = '/the_path_to_project_folder/'"
   ]
  },
  {
   "cell_type": "code",
   "execution_count": null,
   "id": "074e9014-4810-4f96-85ac-5b5f89fa7a21",
   "metadata": {},
   "outputs": [],
   "source": [
    "dlc = DlcHelper(project_path)"
   ]
  },
  {
   "cell_type": "markdown",
   "id": "538f8303-8919-413e-a661-6fa914709b73",
   "metadata": {},
   "source": [
    "### Copy DLC files to DLC folder under the project"
   ]
  },
  {
   "cell_type": "code",
   "execution_count": null,
   "id": "be109406-eba9-49fd-82ba-416fe62f4e82",
   "metadata": {},
   "outputs": [],
   "source": [
    "dlc.copy_dlc_files_DD('/Users/senaagezo/Downloads/')"
   ]
  },
  {
   "cell_type": "markdown",
   "id": "f9daf5ca-56c0-486a-afb2-43d26167b6e7",
   "metadata": {},
   "source": [
    "### Copy DLC h5 files from the DLC folder to the Autoencoder Folder"
   ]
  },
  {
   "cell_type": "code",
   "execution_count": null,
   "id": "fdfb4592-5a36-4500-8c64-88d99d13d21c",
   "metadata": {},
   "outputs": [],
   "source": [
    "dlc.copy_dlc_files_AE()"
   ]
  },
  {
   "cell_type": "code",
   "execution_count": null,
   "id": "60af2aa8-7b4d-47ea-b4a3-3d056587ee69",
   "metadata": {},
   "outputs": [],
   "source": []
  }
 ],
 "metadata": {
  "kernelspec": {
   "display_name": "Python 3 (ipykernel)",
   "language": "python",
   "name": "python3"
  },
  "language_info": {
   "codemirror_mode": {
    "name": "ipython",
    "version": 3
   },
   "file_extension": ".py",
   "mimetype": "text/x-python",
   "name": "python",
   "nbconvert_exporter": "python",
   "pygments_lexer": "ipython3",
   "version": "3.8.13"
  }
 },
 "nbformat": 4,
 "nbformat_minor": 5
}
