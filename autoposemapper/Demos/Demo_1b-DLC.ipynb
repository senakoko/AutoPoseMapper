{
 "cells": [
  {
   "cell_type": "markdown",
   "id": "universal-premium",
   "metadata": {},
   "source": [
    "# DEMO TO USE DeepLabCut HELPER FUNCTIONS"
   ]
  },
  {
   "cell_type": "markdown",
   "id": "arbitrary-evening",
   "metadata": {},
   "source": [
    "Follow the instructions here to use the DLC helper tools.   \n",
    "It assumes you already have used DLC to train a network and labeled files"
   ]
  },
  {
   "cell_type": "code",
   "execution_count": null,
   "id": "musical-sympathy",
   "metadata": {},
   "outputs": [],
   "source": [
    "import sys\n",
    "\n",
    "### Provide the path to the code directory\n",
    "sys.path.append('/path_to_where_the_package_is_downloaded_to/AutoPoseMapper/')"
   ]
  },
  {
   "cell_type": "code",
   "execution_count": null,
   "id": "armed-olympus",
   "metadata": {},
   "outputs": [],
   "source": [
    "import glob\n",
    "from autoposemapper.deeplabcut_tools.dlc_tools import DlcHelper"
   ]
  },
  {
   "cell_type": "code",
   "execution_count": null,
   "id": "disturbed-irrigation",
   "metadata": {},
   "outputs": [],
   "source": [
    "project_path = '/the_path_to_project_folder/'"
   ]
  },
  {
   "cell_type": "code",
   "execution_count": null,
   "id": "promotional-collaboration",
   "metadata": {},
   "outputs": [],
   "source": [
    "dlc = DlcHelper(project_path)"
   ]
  },
  {
   "cell_type": "markdown",
   "id": "featured-think",
   "metadata": {},
   "source": [
    "### Copy DLC h5 files from the DLC folder to the Autoencoder Folder"
   ]
  },
  {
   "cell_type": "code",
   "execution_count": null,
   "id": "functioning-seven",
   "metadata": {},
   "outputs": [],
   "source": [
    "dlc.copy_dlc_files_AE('/path_to_where_DLC_analyzed_h5_are_saved/')"
   ]
  },
  {
   "cell_type": "markdown",
   "id": "turned-valuation",
   "metadata": {},
   "source": [
    "### Copy labeled data used to train the DLC network if you have it - Skip this step if you don't"
   ]
  },
  {
   "cell_type": "markdown",
   "id": "moved-junior",
   "metadata": {},
   "source": [
    "You can use the labeled data to train the autoencoder network"
   ]
  },
  {
   "cell_type": "code",
   "execution_count": null,
   "id": "apparent-maryland",
   "metadata": {},
   "outputs": [],
   "source": [
    "dlc.copy_labeled_DLC_h5('/path_to_the_DLC_data/labeled-data/')"
   ]
  }
 ],
 "metadata": {
  "kernelspec": {
   "display_name": "Python 3 (ipykernel)",
   "language": "python",
   "name": "python3"
  },
  "language_info": {
   "codemirror_mode": {
    "name": "ipython",
    "version": 3
   },
   "file_extension": ".py",
   "mimetype": "text/x-python",
   "name": "python",
   "nbconvert_exporter": "python",
   "pygments_lexer": "ipython3",
   "version": "3.8.13"
  }
 },
 "nbformat": 4,
 "nbformat_minor": 5
}
